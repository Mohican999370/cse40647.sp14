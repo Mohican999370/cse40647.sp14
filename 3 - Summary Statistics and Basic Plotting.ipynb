{
 "metadata": {
  "name": ""
 },
 "nbformat": 3,
 "nbformat_minor": 0,
 "worksheets": [
  {
   "cells": [
    {
     "cell_type": "heading",
     "level": 1,
     "metadata": {},
     "source": [
      "Summary Statistics"
     ]
    },
    {
     "cell_type": "markdown",
     "metadata": {},
     "source": [
      "There are multiple ways to obtain summary statistics for your data in Python. Bellow we will demonstrate how to do so using pandas and numpy. "
     ]
    },
    {
     "cell_type": "code",
     "collapsed": false,
     "input": [
      "import pandas as pd\n",
      "import numpy as np"
     ],
     "language": "python",
     "metadata": {},
     "outputs": [],
     "prompt_number": 1
    },
    {
     "cell_type": "code",
     "collapsed": false,
     "input": [
      "values1 = randint(500, size=10000) # Defines a ndarray with 10000 random numbers in the range [0-500)\n",
      "values2 = pd.Series(randint(500, size=10000)) # Defines a pandas Series similar to the above ndarray"
     ],
     "language": "python",
     "metadata": {},
     "outputs": [],
     "prompt_number": 2
    },
    {
     "cell_type": "markdown",
     "metadata": {},
     "source": [
      "Pandas series are implemented as labeled ndarrays, and hence all statistical methods available for ndarrays can be used with this data structure as well. Bellow, see the first 10 elements generated for each list of values (note the explicit indexing displayed in the pandas series)"
     ]
    },
    {
     "cell_type": "code",
     "collapsed": false,
     "input": [
      "values1[:10]"
     ],
     "language": "python",
     "metadata": {},
     "outputs": [
      {
       "metadata": {},
       "output_type": "pyout",
       "prompt_number": 3,
       "text": [
        "array([451, 278,   7,  83,  89, 113, 437, 138, 193,  16])"
       ]
      }
     ],
     "prompt_number": 3
    },
    {
     "cell_type": "code",
     "collapsed": false,
     "input": [
      "values2[:10]"
     ],
     "language": "python",
     "metadata": {},
     "outputs": [
      {
       "metadata": {},
       "output_type": "pyout",
       "prompt_number": 4,
       "text": [
        "0    243\n",
        "1    180\n",
        "2      7\n",
        "3    160\n",
        "4    442\n",
        "5    293\n",
        "6    392\n",
        "7    305\n",
        "8     89\n",
        "9    100\n",
        "dtype: int32"
       ]
      }
     ],
     "prompt_number": 4
    },
    {
     "cell_type": "markdown",
     "metadata": {},
     "source": [
      "Built-in methods are available for all basic statistics. Some are demonstrated bellow:"
     ]
    },
    {
     "cell_type": "code",
     "collapsed": false,
     "input": [
      "print 'MIN(values1) = ' + str(values1.min()) + '\\t\\t\\tMIN(values2) = ' + str(values2.min())\n",
      "print 'MAX(values1) = ' + str(values1.max()) + '\\t\\t\\tMAX(values2) = ' + str(values2.max()) \n",
      "print 'RANGE(values1) = ' + str(values1.ptp()) + '\\t\\t\\tRANGE(values2) = ' + str(values2.ptp())\n",
      "print 'MEAN(values1) = ' + str(values1.mean()) + '\\t\\tMEAN(values2) = ' + str(values2.mean())\n",
      "print 'STD(values1) = ' + str(values1.std()) + '\\t\\tSTD(values2) = ' + str(values2.std())\n",
      "print 'VARIANCE(values1) = ' + str(values1.var()) + '\\tVARIANCE(values2) = ' + str(values2.var())"
     ],
     "language": "python",
     "metadata": {},
     "outputs": [
      {
       "output_type": "stream",
       "stream": "stdout",
       "text": [
        "MIN(values1) = 0\t\t\tMIN(values2) = 0\n",
        "MAX(values1) = 499\t\t\tMAX(values2) = 499\n",
        "RANGE(values1) = 499\t\t\tRANGE(values2) = 499\n",
        "MEAN(values1) = 249.5481\t\tMEAN(values2) = 250.0642\n",
        "STD(values1) = 145.410198701\t\tSTD(values2) = 145.257200316\n",
        "VARIANCE(values1) = 21144.1258864\tVARIANCE(values2) = 21099.6542438\n"
       ]
      }
     ],
     "prompt_number": 5
    },
    {
     "cell_type": "markdown",
     "metadata": {},
     "source": [
      "Additionally, pandas series have a method called *describe()* which returns a nice summary of these basic statistics."
     ]
    },
    {
     "cell_type": "code",
     "collapsed": false,
     "input": [
      "values2.describe()"
     ],
     "language": "python",
     "metadata": {},
     "outputs": [
      {
       "metadata": {},
       "output_type": "pyout",
       "prompt_number": 6,
       "text": [
        "count    10000.0000\n",
        "mean       250.0642\n",
        "std        145.2572\n",
        "min          0.0000\n",
        "25%        123.0000\n",
        "50%        250.0000\n",
        "75%        377.0000\n",
        "max        499.0000\n",
        "dtype: float64"
       ]
      }
     ],
     "prompt_number": 6
    },
    {
     "cell_type": "markdown",
     "metadata": {},
     "source": [
      "For non-numerical series objects, *describe()* will return a simple summary of the number of unique values and most frequently occurring ones."
     ]
    },
    {
     "cell_type": "code",
     "collapsed": false,
     "input": [
      "s = pd.Series(['a', 'a', 'b', 'b', 'a', 'a', np.nan, 'c', 'd', 'a'])\n",
      "s.describe()"
     ],
     "language": "python",
     "metadata": {},
     "outputs": [
      {
       "metadata": {},
       "output_type": "pyout",
       "prompt_number": 7,
       "text": [
        "count     9\n",
        "unique    4\n",
        "top       a\n",
        "freq      5\n",
        "dtype: object"
       ]
      }
     ],
     "prompt_number": 7
    },
    {
     "cell_type": "markdown",
     "metadata": {},
     "source": [
      "*np.nan* is used to denote missing values. By default, the statistical methods implemented in pandas skip these values, which is not always the case when we are dealing with ndarrays. This behavior can be altered by including the *skipna=False* flag when calling a method."
     ]
    },
    {
     "cell_type": "heading",
     "level": 2,
     "metadata": {},
     "source": [
      "Histograms"
     ]
    },
    {
     "cell_type": "heading",
     "level": 4,
     "metadata": {},
     "source": [
      "Using pandas"
     ]
    },
    {
     "cell_type": "markdown",
     "metadata": {},
     "source": [
      "Plotting histograms using pandas is quite straightforward. Using the above *values2* series, we can simply call the *hist()* method."
     ]
    },
    {
     "cell_type": "code",
     "collapsed": false,
     "input": [
      "values2.hist()"
     ],
     "language": "python",
     "metadata": {},
     "outputs": [
      {
       "metadata": {},
       "output_type": "pyout",
       "prompt_number": 8,
       "text": [
        "<matplotlib.axes.AxesSubplot at 0xa504bcc>"
       ]
      },
      {
       "metadata": {},
       "output_type": "display_data",
       "png": "[encoded data removed]",
       "text": [
        "<matplotlib.figure.Figure at 0xa50ca2c>"
       ]
      }
     ],
     "prompt_number": 8
    },
    {
     "cell_type": "markdown",
     "metadata": {},
     "source": [
      "Parameters can be used to change the number of bins, color, transparency, etc."
     ]
    },
    {
     "cell_type": "code",
     "collapsed": false,
     "input": [
      "values2.hist(bins=20, color='r',alpha=0.4, figsize=(10,6))"
     ],
     "language": "python",
     "metadata": {},
     "outputs": [
      {
       "metadata": {},
       "output_type": "pyout",
       "prompt_number": 9,
       "text": [
        "<matplotlib.axes.AxesSubplot at 0xa5e12cc>"
       ]
      },
      {
       "metadata": {},
       "output_type": "display_data",
       "png": "[encoded data removed]",
       "text": [
        "<matplotlib.figure.Figure at 0xa52490c>"
       ]
      }
     ],
     "prompt_number": 9
    },
    {
     "cell_type": "heading",
     "level": 4,
     "metadata": {},
     "source": [
      "Using numpy + matplotlib"
     ]
    },
    {
     "cell_type": "markdown",
     "metadata": {},
     "source": [
      "While the pandas data structure has a method that automatically wraps around a call to the *hist()* method of the plotting library matplotlib, we can achieve the same result by performing that call manually on our *values1* ndarray."
     ]
    },
    {
     "cell_type": "code",
     "collapsed": false,
     "input": [
      "import matplotlib.pyplot as plt # Required for plotting"
     ],
     "language": "python",
     "metadata": {},
     "outputs": [],
     "prompt_number": 10
    },
    {
     "cell_type": "code",
     "collapsed": false,
     "input": [
      "plt.hist(values1)"
     ],
     "language": "python",
     "metadata": {},
     "outputs": [
      {
       "metadata": {},
       "output_type": "pyout",
       "prompt_number": 11,
       "text": [
        "(array([ 1011.,  1048.,   968.,  1008.,   974.,   935.,  1002.,  1035.,\n",
        "        1000.,  1019.]),\n",
        " array([   0. ,   49.9,   99.8,  149.7,  199.6,  249.5,  299.4,  349.3,\n",
        "        399.2,  449.1,  499. ]),\n",
        " <a list of 10 Patch objects>)"
       ]
      },
      {
       "metadata": {},
       "output_type": "display_data",
       "png": "[encoded data removed]",
       "text": [
        "<matplotlib.figure.Figure at 0xa715e8c>"
       ]
      }
     ],
     "prompt_number": 11
    },
    {
     "cell_type": "heading",
     "level": 2,
     "metadata": {},
     "source": [
      "Boxplots"
     ]
    },
    {
     "cell_type": "heading",
     "level": 4,
     "metadata": {},
     "source": [
      "Using pandas"
     ]
    },
    {
     "cell_type": "markdown",
     "metadata": {},
     "source": [
      "Pandas DataFrames have a boxplot method which allows you to visualize the distribution of values within each column."
     ]
    },
    {
     "cell_type": "code",
     "collapsed": false,
     "input": [
      "df = pd.DataFrame(rand(10,2), columns=['Col1', 'Col2'] )"
     ],
     "language": "python",
     "metadata": {},
     "outputs": [],
     "prompt_number": 12
    },
    {
     "cell_type": "code",
     "collapsed": false,
     "input": [
      "df.head()"
     ],
     "language": "python",
     "metadata": {},
     "outputs": [
      {
       "html": [
        "<div style=\"max-height:1000px;max-width:1500px;overflow:auto;\">\n",
        "<table border=\"1\" class=\"dataframe\">\n",
        "  <thead>\n",
        "    <tr style=\"text-align: right;\">\n",
        "      <th></th>\n",
        "      <th>Col1</th>\n",
        "      <th>Col2</th>\n",
        "    </tr>\n",
        "  </thead>\n",
        "  <tbody>\n",
        "    <tr>\n",
        "      <th>0</th>\n",
        "      <td> 0.346086</td>\n",
        "      <td> 0.749186</td>\n",
        "    </tr>\n",
        "    <tr>\n",
        "      <th>1</th>\n",
        "      <td> 0.175355</td>\n",
        "      <td> 0.130804</td>\n",
        "    </tr>\n",
        "    <tr>\n",
        "      <th>2</th>\n",
        "      <td> 0.504046</td>\n",
        "      <td> 0.768840</td>\n",
        "    </tr>\n",
        "    <tr>\n",
        "      <th>3</th>\n",
        "      <td> 0.760874</td>\n",
        "      <td> 0.888135</td>\n",
        "    </tr>\n",
        "    <tr>\n",
        "      <th>4</th>\n",
        "      <td> 0.989603</td>\n",
        "      <td> 0.166070</td>\n",
        "    </tr>\n",
        "  </tbody>\n",
        "</table>\n",
        "</div>"
       ],
       "metadata": {},
       "output_type": "pyout",
       "prompt_number": 13,
       "text": [
        "       Col1      Col2\n",
        "0  0.346086  0.749186\n",
        "1  0.175355  0.130804\n",
        "2  0.504046  0.768840\n",
        "3  0.760874  0.888135\n",
        "4  0.989603  0.166070"
       ]
      }
     ],
     "prompt_number": 13
    },
    {
     "cell_type": "code",
     "collapsed": false,
     "input": [
      "df.boxplot(grid=False)"
     ],
     "language": "python",
     "metadata": {},
     "outputs": [
      {
       "metadata": {},
       "output_type": "pyout",
       "prompt_number": 14,
       "text": [
        "{'boxes': [<matplotlib.lines.Line2D at 0xa8d08ec>,\n",
        "  <matplotlib.lines.Line2D at 0xa8daeec>],\n",
        " 'caps': [<matplotlib.lines.Line2D at 0xa8c9f4c>,\n",
        "  <matplotlib.lines.Line2D at 0xa8d042c>,\n",
        "  <matplotlib.lines.Line2D at 0xa8da56c>,\n",
        "  <matplotlib.lines.Line2D at 0xa8daa2c>],\n",
        " 'fliers': [<matplotlib.lines.Line2D at 0xa8d0f6c>,\n",
        "  <matplotlib.lines.Line2D at 0xa8d56ac>,\n",
        "  <matplotlib.lines.Line2D at 0xa8e188c>,\n",
        "  <matplotlib.lines.Line2D at 0xa8e1cac>],\n",
        " 'medians': [<matplotlib.lines.Line2D at 0xa8d0dac>,\n",
        "  <matplotlib.lines.Line2D at 0xa8e13cc>],\n",
        " 'whiskers': [<matplotlib.lines.Line2D at 0xa8c946c>,\n",
        "  <matplotlib.lines.Line2D at 0xa8c9a8c>,\n",
        "  <matplotlib.lines.Line2D at 0xa8d5b8c>,\n",
        "  <matplotlib.lines.Line2D at 0xa8d5d8c>]}"
       ]
      },
      {
       "metadata": {},
       "output_type": "display_data",
       "png": "[encoded data removed]",
       "text": [
        "<matplotlib.figure.Figure at 0xa7d6c6c>"
       ]
      }
     ],
     "prompt_number": 14
    },
    {
     "cell_type": "heading",
     "level": 4,
     "metadata": {},
     "source": [
      "Using numpy + matplotlib"
     ]
    },
    {
     "cell_type": "code",
     "collapsed": false,
     "input": [
      "fig = plt.figure()\n",
      "ax = fig.add_subplot(111)\n",
      "\n",
      "x1 = np.random.normal(0,1,50)\n",
      "x2 = np.random.normal(1,1,50)\n",
      "\n",
      "ax.boxplot([x1,x2])"
     ],
     "language": "python",
     "metadata": {},
     "outputs": [
      {
       "metadata": {},
       "output_type": "pyout",
       "prompt_number": 15,
       "text": [
        "{'boxes': [<matplotlib.lines.Line2D at 0xab0ef6c>,\n",
        "  <matplotlib.lines.Line2D at 0xaa628ac>],\n",
        " 'caps': [<matplotlib.lines.Line2D at 0xab0e8ec>,\n",
        "  <matplotlib.lines.Line2D at 0xab0edac>,\n",
        "  <matplotlib.lines.Line2D at 0xab19f0c>,\n",
        "  <matplotlib.lines.Line2D at 0xaa623ec>],\n",
        " 'fliers': [<matplotlib.lines.Line2D at 0xab13c0c>,\n",
        "  <matplotlib.lines.Line2D at 0xab13dcc>,\n",
        "  <matplotlib.lines.Line2D at 0xaa62f2c>,\n",
        "  <matplotlib.lines.Line2D at 0xaa6766c>],\n",
        " 'medians': [<matplotlib.lines.Line2D at 0xab1374c>,\n",
        "  <matplotlib.lines.Line2D at 0xaa62d6c>],\n",
        " 'whiskers': [<matplotlib.lines.Line2D at 0xab08dec>,\n",
        "  <matplotlib.lines.Line2D at 0xab0e42c>,\n",
        "  <matplotlib.lines.Line2D at 0xab1954c>,\n",
        "  <matplotlib.lines.Line2D at 0xab19a4c>]}"
       ]
      },
      {
       "metadata": {},
       "output_type": "display_data",
       "png": "[encoded data removed]",
       "text": [
        "<matplotlib.figure.Figure at 0xa94932c>"
       ]
      }
     ],
     "prompt_number": 15
    },
    {
     "cell_type": "heading",
     "level": 2,
     "metadata": {},
     "source": [
      "Scatterplots"
     ]
    },
    {
     "cell_type": "heading",
     "level": 4,
     "metadata": {},
     "source": [
      "Using pandas"
     ]
    },
    {
     "cell_type": "markdown",
     "metadata": {},
     "source": [
      "Lets define a dataframe containing 2 columns, each with 200 random numbers < 1"
     ]
    },
    {
     "cell_type": "code",
     "collapsed": false,
     "input": [
      "df = pd.DataFrame(rand(200,2))"
     ],
     "language": "python",
     "metadata": {},
     "outputs": [],
     "prompt_number": 16
    },
    {
     "cell_type": "code",
     "collapsed": false,
     "input": [
      "plt.scatter(df[0], df[1])"
     ],
     "language": "python",
     "metadata": {},
     "outputs": [
      {
       "metadata": {},
       "output_type": "pyout",
       "prompt_number": 17,
       "text": [
        "<matplotlib.collections.PathCollection at 0xabcc56c>"
       ]
      },
      {
       "metadata": {},
       "output_type": "display_data",
       "png": "[encoded data removed]",
       "text": [
        "<matplotlib.figure.Figure at 0xaae304c>"
       ]
      }
     ],
     "prompt_number": 17
    },
    {
     "cell_type": "heading",
     "level": 4,
     "metadata": {},
     "source": [
      "Using numpy + matplotlib"
     ]
    },
    {
     "cell_type": "code",
     "collapsed": false,
     "input": [
      "x = np.random.randn(200)\n",
      "y = np.random.randn(200)\n",
      "\n",
      "fig = plt.figure()\n",
      "ax = fig.add_subplot(111)\n",
      "\n",
      "ax.scatter(x,y,color='r')"
     ],
     "language": "python",
     "metadata": {},
     "outputs": [
      {
       "metadata": {},
       "output_type": "pyout",
       "prompt_number": 18,
       "text": [
        "<matplotlib.collections.PathCollection at 0xacdf96c>"
       ]
      },
      {
       "metadata": {},
       "output_type": "display_data",
       "png": "[encoded data removed]",
       "text": [
        "<matplotlib.figure.Figure at 0xaa8e18c>"
       ]
      }
     ],
     "prompt_number": 18
    }
   ],
   "metadata": {}
  }
 ]
}