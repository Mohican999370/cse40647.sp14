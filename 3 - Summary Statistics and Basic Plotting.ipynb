{
 "metadata": {
  "name": ""
 },
 "nbformat": 3,
 "nbformat_minor": 0,
 "worksheets": [
  {
   "cells": [
    {
     "cell_type": "heading",
     "level": 1,
     "metadata": {},
     "source": [
      "Summary Statistics"
     ]
    },
    {
     "cell_type": "markdown",
     "metadata": {},
     "source": [
      "There are multiple ways to obtain summary statistics for your data in Python. Bellow we will demonstrate how to do so using pandas and numpy. "
     ]
    },
    {
     "cell_type": "code",
     "collapsed": false,
     "input": [
      "import pandas as pd\n",
      "import numpy as np"
     ],
     "language": "python",
     "metadata": {},
     "outputs": [],
     "prompt_number": 1
    },
    {
     "cell_type": "code",
     "collapsed": false,
     "input": [
      "values1 = randint(500, size=10000) # Defines a ndarray with 10000 random numbers in the range [0-500)\n",
      "values2 = pd.Series(randint(500, size=10000)) # Defines a pandas Series similar to the above ndarray"
     ],
     "language": "python",
     "metadata": {},
     "outputs": [],
     "prompt_number": 2
    },
    {
     "cell_type": "markdown",
     "metadata": {},
     "source": [
      "Pandas series are implemented as labeled ndarrays, and hence all statistical methods available for ndarrays can be used with this data structure as well. Bellow, see the first 10 elements generated for each list of values (note the explicit indexing displayed in the pandas series)"
     ]
    },
    {
     "cell_type": "code",
     "collapsed": false,
     "input": [
      "values1[:10]"
     ],
     "language": "python",
     "metadata": {},
     "outputs": [
      {
       "metadata": {},
       "output_type": "pyout",
       "prompt_number": 3,
       "text": [
        "array([433, 211, 420, 293, 330, 286,   1, 301, 141, 342])"
       ]
      }
     ],
     "prompt_number": 3
    },
    {
     "cell_type": "code",
     "collapsed": false,
     "input": [
      "values2[:10]"
     ],
     "language": "python",
     "metadata": {},
     "outputs": [
      {
       "metadata": {},
       "output_type": "pyout",
       "prompt_number": 4,
       "text": [
        "0    111\n",
        "1    272\n",
        "2    147\n",
        "3    192\n",
        "4     57\n",
        "5      8\n",
        "6    294\n",
        "7    209\n",
        "8    204\n",
        "9    265\n",
        "dtype: int32"
       ]
      }
     ],
     "prompt_number": 4
    },
    {
     "cell_type": "markdown",
     "metadata": {},
     "source": [
      "Built-in methods are available for all basic statistics. Some are demonstrated bellow:"
     ]
    },
    {
     "cell_type": "code",
     "collapsed": false,
     "input": [
      "print 'MIN(values1) = ' + str(values1.min()) + '\\t\\t\\tMIN(values2) = ' + str(values2.min())\n",
      "print 'MAX(values1) = ' + str(values1.max()) + '\\t\\t\\tMAX(values2) = ' + str(values2.max()) \n",
      "print 'RANGE(values1) = ' + str(values1.ptp()) + '\\t\\t\\tRANGE(values2) = ' + str(values2.ptp())\n",
      "print 'MEAN(values1) = ' + str(values1.mean()) + '\\t\\tMEAN(values2) = ' + str(values2.mean())\n",
      "print 'STD(values1) = ' + str(values1.std()) + '\\t\\tSTD(values2) = ' + str(values2.std())\n",
      "print 'VARIANCE(values1) = ' + str(values1.var()) + '\\tVARIANCE(values2) = ' + str(values2.var())"
     ],
     "language": "python",
     "metadata": {},
     "outputs": [
      {
       "output_type": "stream",
       "stream": "stdout",
       "text": [
        "MIN(values1) = 0\t\t\tMIN(values2) = 0\n",
        "MAX(values1) = 499\t\t\tMAX(values2) = 499\n",
        "RANGE(values1) = 499\t\t\tRANGE(values2) = 499\n",
        "MEAN(values1) = 249.592\t\tMEAN(values2) = 248.9135\n",
        "STD(values1) = 144.042226226\t\tSTD(values2) = 144.961905386\n",
        "VARIANCE(values1) = 20748.162936\tVARIANCE(values2) = 21013.9540132\n"
       ]
      }
     ],
     "prompt_number": 5
    },
    {
     "cell_type": "markdown",
     "metadata": {},
     "source": [
      "Additionally, pandas series have a method called *describe()* which returns a nice summary of these basic statistics."
     ]
    },
    {
     "cell_type": "code",
     "collapsed": false,
     "input": [
      "values2.describe()"
     ],
     "language": "python",
     "metadata": {},
     "outputs": [
      {
       "metadata": {},
       "output_type": "pyout",
       "prompt_number": 6,
       "text": [
        "count    10000.000000\n",
        "mean       248.913500\n",
        "std        144.961905\n",
        "min          0.000000\n",
        "25%        122.000000\n",
        "50%        249.000000\n",
        "75%        375.000000\n",
        "max        499.000000\n",
        "dtype: float64"
       ]
      }
     ],
     "prompt_number": 6
    },
    {
     "cell_type": "markdown",
     "metadata": {},
     "source": [
      "For non-numerical series objects, *describe()* will return a simple summary of the number of unique values and most frequently occurring ones."
     ]
    },
    {
     "cell_type": "code",
     "collapsed": false,
     "input": [
      "s = pd.Series(['a', 'a', 'b', 'b', 'a', 'a', np.nan, 'c', 'd', 'a'])\n",
      "s.describe()"
     ],
     "language": "python",
     "metadata": {},
     "outputs": [
      {
       "metadata": {},
       "output_type": "pyout",
       "prompt_number": 7,
       "text": [
        "count     9\n",
        "unique    4\n",
        "top       a\n",
        "freq      5\n",
        "dtype: object"
       ]
      }
     ],
     "prompt_number": 7
    },
    {
     "cell_type": "markdown",
     "metadata": {},
     "source": [
      "*np.nan* is used to denote missing values. By default, the statistical methods implemented in pandas skip these values, which is not always the case when we are dealing with ndarrays. This behavior can be altered by including the *skipna=False* flag when calling a method."
     ]
    },
    {
     "cell_type": "heading",
     "level": 2,
     "metadata": {},
     "source": [
      "Histograms"
     ]
    },
    {
     "cell_type": "heading",
     "level": 4,
     "metadata": {},
     "source": [
      "Using pandas"
     ]
    },
    {
     "cell_type": "markdown",
     "metadata": {},
     "source": [
      "Plotting histograms using pandas is quite straightforward. Using the above *values2* series, we can simply call the *hist()* method."
     ]
    },
    {
     "cell_type": "code",
     "collapsed": false,
     "input": [
      "values2.hist()"
     ],
     "language": "python",
     "metadata": {},
     "outputs": [
      {
       "metadata": {},
       "output_type": "pyout",
       "prompt_number": 8,
       "text": [
        "<matplotlib.axes.AxesSubplot at 0x9df9e2c>"
       ]
      },
      {
       "metadata": {},
       "output_type": "display_data",
       "png": "[encoded data removed]",
       "text": [
        "<matplotlib.figure.Figure at 0x9df99ec>"
       ]
      }
     ],
     "prompt_number": 8
    },
    {
     "cell_type": "markdown",
     "metadata": {},
     "source": [
      "Parameters can be used to change the number of bins, color, transparency, etc."
     ]
    },
    {
     "cell_type": "code",
     "collapsed": false,
     "input": [
      "values2.hist(bins=20, color='r',alpha=0.4, figsize=(10,6))"
     ],
     "language": "python",
     "metadata": {},
     "outputs": [
      {
       "metadata": {},
       "output_type": "pyout",
       "prompt_number": 9,
       "text": [
        "<matplotlib.axes.AxesSubplot at 0x9e0a2ac>"
       ]
      },
      {
       "metadata": {},
       "output_type": "display_data",
       "png": "[encoded data removed]",
       "text": [
        "<matplotlib.figure.Figure at 0x9e10eec>"
       ]
      }
     ],
     "prompt_number": 9
    },
    {
     "cell_type": "heading",
     "level": 4,
     "metadata": {},
     "source": [
      "Using numpy + matplotlib"
     ]
    },
    {
     "cell_type": "markdown",
     "metadata": {},
     "source": [
      "While the pandas data structure has a method that automatically wraps around a call to the *hist()* method of the plotting library matplotlib, we can achieve the same result by performing that call manually on our *values1* ndarray."
     ]
    },
    {
     "cell_type": "code",
     "collapsed": false,
     "input": [
      "import matplotlib.pyplot as plt # Required for plotting"
     ],
     "language": "python",
     "metadata": {},
     "outputs": [],
     "prompt_number": 10
    },
    {
     "cell_type": "code",
     "collapsed": false,
     "input": [
      "plt.hist(values1)"
     ],
     "language": "python",
     "metadata": {},
     "outputs": [
      {
       "metadata": {},
       "output_type": "pyout",
       "prompt_number": 11,
       "text": [
        "(array([  991.,   989.,  1007.,  1008.,  1001.,   976.,  1028.,  1017.,\n",
        "        1008.,   975.]),\n",
        " array([   0. ,   49.9,   99.8,  149.7,  199.6,  249.5,  299.4,  349.3,\n",
        "        399.2,  449.1,  499. ]),\n",
        " <a list of 10 Patch objects>)"
       ]
      },
      {
       "metadata": {},
       "output_type": "display_data",
       "png": "[encoded data removed]",
       "text": [
        "<matplotlib.figure.Figure at 0x9f6454c>"
       ]
      }
     ],
     "prompt_number": 11
    },
    {
     "cell_type": "heading",
     "level": 2,
     "metadata": {},
     "source": [
      "Boxplots"
     ]
    },
    {
     "cell_type": "heading",
     "level": 4,
     "metadata": {},
     "source": [
      "Using pandas"
     ]
    },
    {
     "cell_type": "markdown",
     "metadata": {},
     "source": [
      "Pandas DataFrames have a boxplot method which allows you to visualize the distribution of values within each column."
     ]
    },
    {
     "cell_type": "code",
     "collapsed": false,
     "input": [
      "df = pd.DataFrame(rand(10,2), columns=['Col1', 'Col2'] )"
     ],
     "language": "python",
     "metadata": {},
     "outputs": [],
     "prompt_number": 12
    },
    {
     "cell_type": "code",
     "collapsed": false,
     "input": [
      "df.head()"
     ],
     "language": "python",
     "metadata": {},
     "outputs": [
      {
       "html": [
        "<div style=\"max-height:1000px;max-width:1500px;overflow:auto;\">\n",
        "<table border=\"1\" class=\"dataframe\">\n",
        "  <thead>\n",
        "    <tr style=\"text-align: right;\">\n",
        "      <th></th>\n",
        "      <th>Col1</th>\n",
        "      <th>Col2</th>\n",
        "    </tr>\n",
        "  </thead>\n",
        "  <tbody>\n",
        "    <tr>\n",
        "      <th>0</th>\n",
        "      <td> 0.392773</td>\n",
        "      <td> 0.312177</td>\n",
        "    </tr>\n",
        "    <tr>\n",
        "      <th>1</th>\n",
        "      <td> 0.217096</td>\n",
        "      <td> 0.594175</td>\n",
        "    </tr>\n",
        "    <tr>\n",
        "      <th>2</th>\n",
        "      <td> 0.151111</td>\n",
        "      <td> 0.187762</td>\n",
        "    </tr>\n",
        "    <tr>\n",
        "      <th>3</th>\n",
        "      <td> 0.633528</td>\n",
        "      <td> 0.308427</td>\n",
        "    </tr>\n",
        "    <tr>\n",
        "      <th>4</th>\n",
        "      <td> 0.223702</td>\n",
        "      <td> 0.349615</td>\n",
        "    </tr>\n",
        "  </tbody>\n",
        "</table>\n",
        "</div>"
       ],
       "metadata": {},
       "output_type": "pyout",
       "prompt_number": 13,
       "text": [
        "       Col1      Col2\n",
        "0  0.392773  0.312177\n",
        "1  0.217096  0.594175\n",
        "2  0.151111  0.187762\n",
        "3  0.633528  0.308427\n",
        "4  0.223702  0.349615"
       ]
      }
     ],
     "prompt_number": 13
    },
    {
     "cell_type": "code",
     "collapsed": false,
     "input": [
      "df.boxplot(grid=False)"
     ],
     "language": "python",
     "metadata": {},
     "outputs": [
      {
       "metadata": {},
       "output_type": "pyout",
       "prompt_number": 14,
       "text": [
        "{'boxes': [<matplotlib.lines.Line2D at 0xa1f440c>,\n",
        "  <matplotlib.lines.Line2D at 0xa200a0c>],\n",
        " 'caps': [<matplotlib.lines.Line2D at 0xa1eda6c>,\n",
        "  <matplotlib.lines.Line2D at 0xa1edf2c>,\n",
        "  <matplotlib.lines.Line2D at 0xa1f9fec>,\n",
        "  <matplotlib.lines.Line2D at 0xa20054c>],\n",
        " 'fliers': [<matplotlib.lines.Line2D at 0xa1f4d6c>,\n",
        "  <matplotlib.lines.Line2D at 0xa1f4f2c>,\n",
        "  <matplotlib.lines.Line2D at 0xa2053ac>,\n",
        "  <matplotlib.lines.Line2D at 0xa20584c>],\n",
        " 'medians': [<matplotlib.lines.Line2D at 0xa1f48cc>,\n",
        "  <matplotlib.lines.Line2D at 0xa200ecc>],\n",
        " 'whiskers': [<matplotlib.lines.Line2D at 0xa1e7f8c>,\n",
        "  <matplotlib.lines.Line2D at 0xa1ed5ac>,\n",
        "  <matplotlib.lines.Line2D at 0xa1f96ac>,\n",
        "  <matplotlib.lines.Line2D at 0xa1f9bac>]}"
       ]
      },
      {
       "metadata": {},
       "output_type": "display_data",
       "png": "[encoded data removed]",
       "text": [
        "<matplotlib.figure.Figure at 0xa0f35ec>"
       ]
      }
     ],
     "prompt_number": 14
    },
    {
     "cell_type": "heading",
     "level": 4,
     "metadata": {},
     "source": [
      "Using numpy + matplotlib"
     ]
    },
    {
     "cell_type": "code",
     "collapsed": false,
     "input": [
      "fig = plt.figure()\n",
      "ax = fig.add_subplot(111)\n",
      "\n",
      "x1 = np.random.normal(0,1,50)\n",
      "x2 = np.random.normal(1,1,50)\n",
      "\n",
      "ax.boxplot([x1,x2])"
     ],
     "language": "python",
     "metadata": {},
     "outputs": [
      {
       "metadata": {},
       "output_type": "pyout",
       "prompt_number": 1,
       "text": [
        "{'boxes': [<matplotlib.lines.Line2D at 0xa5ad36c>,\n",
        "  <matplotlib.lines.Line2D at 0xa5b998c>],\n",
        " 'caps': [<matplotlib.lines.Line2D at 0xa5469cc>,\n",
        "  <matplotlib.lines.Line2D at 0xa546e8c>,\n",
        "  <matplotlib.lines.Line2D at 0xa5b3fec>,\n",
        "  <matplotlib.lines.Line2D at 0xa5b94cc>],\n",
        " 'fliers': [<matplotlib.lines.Line2D at 0xa5adcec>,\n",
        "  <matplotlib.lines.Line2D at 0xa5adeac>,\n",
        "  <matplotlib.lines.Line2D at 0xa5b9fec>,\n",
        "  <matplotlib.lines.Line2D at 0xa5bf74c>],\n",
        " 'medians': [<matplotlib.lines.Line2D at 0xa5ad82c>,\n",
        "  <matplotlib.lines.Line2D at 0xa5b9e4c>],\n",
        " 'whiskers': [<matplotlib.lines.Line2D at 0xa53feec>,\n",
        "  <matplotlib.lines.Line2D at 0xa54650c>,\n",
        "  <matplotlib.lines.Line2D at 0xa5b362c>,\n",
        "  <matplotlib.lines.Line2D at 0xa5b3b2c>]}"
       ]
      },
      {
       "metadata": {},
       "output_type": "display_data",
       "png": "[encoded data removed]",
       "text": [
        "<matplotlib.figure.Figure at 0xa489fac>"
       ]
      }
     ],
     "prompt_number": 1
    },
    {
     "cell_type": "heading",
     "level": 2,
     "metadata": {},
     "source": [
      "Scatterplots"
     ]
    },
    {
     "cell_type": "heading",
     "level": 4,
     "metadata": {},
     "source": [
      "Using pandas"
     ]
    },
    {
     "cell_type": "markdown",
     "metadata": {},
     "source": [
      "Lets define a dataframe containing 2 columns, each with 200 random numbers < 1"
     ]
    },
    {
     "cell_type": "code",
     "collapsed": false,
     "input": [
      "df = pd.DataFrame(rand(200,2))"
     ],
     "language": "python",
     "metadata": {},
     "outputs": [],
     "prompt_number": 15
    },
    {
     "cell_type": "code",
     "collapsed": false,
     "input": [
      "plt.scatter(df[0], df[1])"
     ],
     "language": "python",
     "metadata": {},
     "outputs": [
      {
       "metadata": {},
       "output_type": "pyout",
       "prompt_number": 16,
       "text": [
        "<matplotlib.collections.PathCollection at 0xa3d82ec>"
       ]
      },
      {
       "metadata": {},
       "output_type": "display_data",
       "png": "[encoded data removed]",
       "text": [
        "<matplotlib.figure.Figure at 0xa19ee4c>"
       ]
      }
     ],
     "prompt_number": 16
    },
    {
     "cell_type": "heading",
     "level": 4,
     "metadata": {},
     "source": [
      "Using numpy + matplotlib"
     ]
    },
    {
     "cell_type": "code",
     "collapsed": false,
     "input": [
      "x = np.random.randn(200)\n",
      "y = np.random.randn(200)\n",
      "\n",
      "fig = plt.figure()\n",
      "ax = fig.add_subplot(111)\n",
      "\n",
      "ax.scatter(x,y,color='r')"
     ],
     "language": "python",
     "metadata": {},
     "outputs": [
      {
       "metadata": {},
       "output_type": "pyout",
       "prompt_number": 17,
       "text": [
        "<matplotlib.collections.PathCollection at 0xa48640c>"
       ]
      },
      {
       "metadata": {},
       "output_type": "display_data",
       "png": "[encoded data removed]",
       "text": [
        "<matplotlib.figure.Figure at 0xa0ff86c>"
       ]
      }
     ],
     "prompt_number": 17
    }
   ],
   "metadata": {}
  }
 ]
}