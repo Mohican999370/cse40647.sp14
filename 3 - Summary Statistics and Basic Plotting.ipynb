{
 "metadata": {
  "name": ""
 },
 "nbformat": 3,
 "nbformat_minor": 0,
 "worksheets": [
  {
   "cells": [
    {
     "cell_type": "markdown",
     "metadata": {},
     "source": [
      "*   Keyboard shortcuts\n",
      "*   --pylab inline"
     ]
    },
    {
     "cell_type": "heading",
     "level": 1,
     "metadata": {},
     "source": [
      "Summary Statistics"
     ]
    },
    {
     "cell_type": "markdown",
     "metadata": {},
     "source": [
      "There are multiple ways to obtain summary statistics for your data in Python. Bellow we will demonstrate how to do so using pandas and NumPy. "
     ]
    },
    {
     "cell_type": "code",
     "collapsed": false,
     "input": [
      "import pandas as pd\n",
      "import numpy as np"
     ],
     "language": "python",
     "metadata": {},
     "outputs": [],
     "prompt_number": 1
    },
    {
     "cell_type": "code",
     "collapsed": false,
     "input": [
      "values1 = randint(500, size=10000) # Defines a ndarray with 10000 random numbers in the range [0-500)\n",
      "values2 = pd.Series(randint(500, size=10000)) # Defines a pandas Series similar to the above ndarray"
     ],
     "language": "python",
     "metadata": {},
     "outputs": [],
     "prompt_number": 2
    },
    {
     "cell_type": "markdown",
     "metadata": {},
     "source": [
      "pandas series are implemented as labeled ndarrays, and hence all statistical methods available for ndarrays can be used with this data structure as well. Below, see the first 10 elements generated for each list of values (note the explicit indexing displayed in the pandas series)."
     ]
    },
    {
     "cell_type": "code",
     "collapsed": false,
     "input": [
      "values1[:10]"
     ],
     "language": "python",
     "metadata": {},
     "outputs": [
      {
       "metadata": {},
       "output_type": "pyout",
       "prompt_number": 3,
       "text": [
        "array([371, 371, 261, 228, 428, 316,  68, 399, 223,   7])"
       ]
      }
     ],
     "prompt_number": 3
    },
    {
     "cell_type": "code",
     "collapsed": false,
     "input": [
      "values2[:10]"
     ],
     "language": "python",
     "metadata": {},
     "outputs": [
      {
       "metadata": {},
       "output_type": "pyout",
       "prompt_number": 4,
       "text": [
        "0     94\n",
        "1    378\n",
        "2    261\n",
        "3    225\n",
        "4    131\n",
        "5    332\n",
        "6     27\n",
        "7    356\n",
        "8    263\n",
        "9    359\n",
        "dtype: int32"
       ]
      }
     ],
     "prompt_number": 4
    },
    {
     "cell_type": "markdown",
     "metadata": {},
     "source": [
      "Built-in methods are available for all basic statistics. Some are demonstrated below:"
     ]
    },
    {
     "cell_type": "code",
     "collapsed": false,
     "input": [
      "print 'MIN(values1) = ' + str(values1.min()) + '\\t\\t\\tMIN(values2) = ' + str(values2.min())\n",
      "print 'MAX(values1) = ' + str(values1.max()) + '\\t\\t\\tMAX(values2) = ' + str(values2.max()) \n",
      "print 'RANGE(values1) = ' + str(values1.ptp()) + '\\t\\t\\tRANGE(values2) = ' + str(values2.ptp())\n",
      "print 'MEAN(values1) = ' + str(values1.mean()) + '\\t\\tMEAN(values2) = ' + str(values2.mean())\n",
      "print 'STD(values1) = ' + str(values1.std()) + '\\t\\tSTD(values2) = ' + str(values2.std())\n",
      "print 'VARIANCE(values1) = ' + str(values1.var()) + '\\tVARIANCE(values2) = ' + str(values2.var())"
     ],
     "language": "python",
     "metadata": {},
     "outputs": [
      {
       "output_type": "stream",
       "stream": "stdout",
       "text": [
        "MIN(values1) = 0\t\t\tMIN(values2) = 0\n",
        "MAX(values1) = 499\t\t\tMAX(values2) = 499\n",
        "RANGE(values1) = 499\t\t\tRANGE(values2) = 499\n",
        "MEAN(values1) = 251.8453\t\tMEAN(values2) = 248.598\n",
        "STD(values1) = 145.000518509\t\tSTD(values2) = 144.571459447\n",
        "VARIANCE(values1) = 21025.1503679\tVARIANCE(values2) = 20900.9068867\n"
       ]
      }
     ],
     "prompt_number": 5
    },
    {
     "cell_type": "markdown",
     "metadata": {},
     "source": [
      "Additionally, pandas series have a method called *describe()* that returns a nice summary of these basic statistics."
     ]
    },
    {
     "cell_type": "code",
     "collapsed": false,
     "input": [
      "values2.describe()"
     ],
     "language": "python",
     "metadata": {},
     "outputs": [
      {
       "metadata": {},
       "output_type": "pyout",
       "prompt_number": 6,
       "text": [
        "count    10000.000000\n",
        "mean       248.598000\n",
        "std        144.571459\n",
        "min          0.000000\n",
        "25%        123.750000\n",
        "50%        247.000000\n",
        "75%        374.000000\n",
        "max        499.000000\n",
        "dtype: float64"
       ]
      }
     ],
     "prompt_number": 6
    },
    {
     "cell_type": "markdown",
     "metadata": {},
     "source": [
      "For non-numerical series objects, *describe()* will return a simple summary of the number of unique values and most frequently occurring ones."
     ]
    },
    {
     "cell_type": "code",
     "collapsed": false,
     "input": [
      "s = pd.Series(['a', 'a', 'b', 'b', 'a', 'a', np.nan, 'c', 'd', 'a'])\n",
      "s.describe()"
     ],
     "language": "python",
     "metadata": {},
     "outputs": [
      {
       "metadata": {},
       "output_type": "pyout",
       "prompt_number": 7,
       "text": [
        "count     9\n",
        "unique    4\n",
        "top       a\n",
        "freq      5\n",
        "dtype: object"
       ]
      }
     ],
     "prompt_number": 7
    },
    {
     "cell_type": "markdown",
     "metadata": {},
     "source": [
      "*np.nan* is used to denote missing values. By default, the statistical methods implemented in pandas skip these values, which is not always the case when we are dealing with ndarrays. This behavior can be altered by including the *skipna=False* flag when calling a method."
     ]
    },
    {
     "cell_type": "heading",
     "level": 2,
     "metadata": {},
     "source": [
      "Handling missing data with pandas"
     ]
    },
    {
     "cell_type": "markdown",
     "metadata": {},
     "source": [
      "pandas has great support for missing data. For full documentation, [check this page](http://pandas.pydata.org/pandas-docs/dev/missing_data.html). Below are a few examples of how do work with missing data using pandas."
     ]
    },
    {
     "cell_type": "code",
     "collapsed": false,
     "input": [
      "df = pd.DataFrame(randn(5, 3), index=['a', 'c', 'e', 'f', 'h'], columns=['one', 'two', 'three'])\n",
      "df"
     ],
     "language": "python",
     "metadata": {},
     "outputs": [
      {
       "html": [
        "<div style=\"max-height:1000px;max-width:1500px;overflow:auto;\">\n",
        "<table border=\"1\" class=\"dataframe\">\n",
        "  <thead>\n",
        "    <tr style=\"text-align: right;\">\n",
        "      <th></th>\n",
        "      <th>one</th>\n",
        "      <th>two</th>\n",
        "      <th>three</th>\n",
        "    </tr>\n",
        "  </thead>\n",
        "  <tbody>\n",
        "    <tr>\n",
        "      <th>a</th>\n",
        "      <td> 1.107447</td>\n",
        "      <td> 0.471134</td>\n",
        "      <td>-1.284425</td>\n",
        "    </tr>\n",
        "    <tr>\n",
        "      <th>c</th>\n",
        "      <td> 1.694742</td>\n",
        "      <td>-0.564540</td>\n",
        "      <td> 0.410716</td>\n",
        "    </tr>\n",
        "    <tr>\n",
        "      <th>e</th>\n",
        "      <td> 0.702032</td>\n",
        "      <td> 0.610619</td>\n",
        "      <td> 0.691020</td>\n",
        "    </tr>\n",
        "    <tr>\n",
        "      <th>f</th>\n",
        "      <td> 0.998054</td>\n",
        "      <td>-1.666087</td>\n",
        "      <td> 0.083426</td>\n",
        "    </tr>\n",
        "    <tr>\n",
        "      <th>h</th>\n",
        "      <td>-0.901936</td>\n",
        "      <td> 0.864991</td>\n",
        "      <td>-0.769040</td>\n",
        "    </tr>\n",
        "  </tbody>\n",
        "</table>\n",
        "</div>"
       ],
       "metadata": {},
       "output_type": "pyout",
       "prompt_number": 30,
       "text": [
        "        one       two     three\n",
        "a  1.107447  0.471134 -1.284425\n",
        "c  1.694742 -0.564540  0.410716\n",
        "e  0.702032  0.610619  0.691020\n",
        "f  0.998054 -1.666087  0.083426\n",
        "h -0.901936  0.864991 -0.769040"
       ]
      }
     ],
     "prompt_number": 30
    },
    {
     "cell_type": "markdown",
     "metadata": {},
     "source": [
      "Above we created a Data frame with 5 rows and 3 columns and filled it with random numbers. Next we will add two more columns."
     ]
    },
    {
     "cell_type": "code",
     "collapsed": false,
     "input": [
      "df['four'] = 'bar'\n",
      "df['five'] = df['one'] > 0"
     ],
     "language": "python",
     "metadata": {},
     "outputs": [],
     "prompt_number": 31
    },
    {
     "cell_type": "code",
     "collapsed": false,
     "input": [
      "df"
     ],
     "language": "python",
     "metadata": {},
     "outputs": [
      {
       "html": [
        "<div style=\"max-height:1000px;max-width:1500px;overflow:auto;\">\n",
        "<table border=\"1\" class=\"dataframe\">\n",
        "  <thead>\n",
        "    <tr style=\"text-align: right;\">\n",
        "      <th></th>\n",
        "      <th>one</th>\n",
        "      <th>two</th>\n",
        "      <th>three</th>\n",
        "      <th>four</th>\n",
        "      <th>five</th>\n",
        "    </tr>\n",
        "  </thead>\n",
        "  <tbody>\n",
        "    <tr>\n",
        "      <th>a</th>\n",
        "      <td> 1.107447</td>\n",
        "      <td> 0.471134</td>\n",
        "      <td>-1.284425</td>\n",
        "      <td> bar</td>\n",
        "      <td>  True</td>\n",
        "    </tr>\n",
        "    <tr>\n",
        "      <th>c</th>\n",
        "      <td> 1.694742</td>\n",
        "      <td>-0.564540</td>\n",
        "      <td> 0.410716</td>\n",
        "      <td> bar</td>\n",
        "      <td>  True</td>\n",
        "    </tr>\n",
        "    <tr>\n",
        "      <th>e</th>\n",
        "      <td> 0.702032</td>\n",
        "      <td> 0.610619</td>\n",
        "      <td> 0.691020</td>\n",
        "      <td> bar</td>\n",
        "      <td>  True</td>\n",
        "    </tr>\n",
        "    <tr>\n",
        "      <th>f</th>\n",
        "      <td> 0.998054</td>\n",
        "      <td>-1.666087</td>\n",
        "      <td> 0.083426</td>\n",
        "      <td> bar</td>\n",
        "      <td>  True</td>\n",
        "    </tr>\n",
        "    <tr>\n",
        "      <th>h</th>\n",
        "      <td>-0.901936</td>\n",
        "      <td> 0.864991</td>\n",
        "      <td>-0.769040</td>\n",
        "      <td> bar</td>\n",
        "      <td> False</td>\n",
        "    </tr>\n",
        "  </tbody>\n",
        "</table>\n",
        "</div>"
       ],
       "metadata": {},
       "output_type": "pyout",
       "prompt_number": 32,
       "text": [
        "        one       two     three four   five\n",
        "a  1.107447  0.471134 -1.284425  bar   True\n",
        "c  1.694742 -0.564540  0.410716  bar   True\n",
        "e  0.702032  0.610619  0.691020  bar   True\n",
        "f  0.998054 -1.666087  0.083426  bar   True\n",
        "h -0.901936  0.864991 -0.769040  bar  False"
       ]
      }
     ],
     "prompt_number": 32
    },
    {
     "cell_type": "markdown",
     "metadata": {},
     "source": [
      "Adding new rows is also simple. Below we include three extra empty rows."
     ]
    },
    {
     "cell_type": "code",
     "collapsed": false,
     "input": [
      "df2 = df.reindex(['a', 'b', 'c', 'd', 'e', 'f', 'g', 'h'])\n",
      "df2"
     ],
     "language": "python",
     "metadata": {},
     "outputs": [
      {
       "html": [
        "<div style=\"max-height:1000px;max-width:1500px;overflow:auto;\">\n",
        "<table border=\"1\" class=\"dataframe\">\n",
        "  <thead>\n",
        "    <tr style=\"text-align: right;\">\n",
        "      <th></th>\n",
        "      <th>one</th>\n",
        "      <th>two</th>\n",
        "      <th>three</th>\n",
        "      <th>four</th>\n",
        "      <th>five</th>\n",
        "    </tr>\n",
        "  </thead>\n",
        "  <tbody>\n",
        "    <tr>\n",
        "      <th>a</th>\n",
        "      <td> 1.107447</td>\n",
        "      <td> 0.471134</td>\n",
        "      <td>-1.284425</td>\n",
        "      <td> bar</td>\n",
        "      <td>  True</td>\n",
        "    </tr>\n",
        "    <tr>\n",
        "      <th>b</th>\n",
        "      <td>      NaN</td>\n",
        "      <td>      NaN</td>\n",
        "      <td>      NaN</td>\n",
        "      <td> NaN</td>\n",
        "      <td>   NaN</td>\n",
        "    </tr>\n",
        "    <tr>\n",
        "      <th>c</th>\n",
        "      <td> 1.694742</td>\n",
        "      <td>-0.564540</td>\n",
        "      <td> 0.410716</td>\n",
        "      <td> bar</td>\n",
        "      <td>  True</td>\n",
        "    </tr>\n",
        "    <tr>\n",
        "      <th>d</th>\n",
        "      <td>      NaN</td>\n",
        "      <td>      NaN</td>\n",
        "      <td>      NaN</td>\n",
        "      <td> NaN</td>\n",
        "      <td>   NaN</td>\n",
        "    </tr>\n",
        "    <tr>\n",
        "      <th>e</th>\n",
        "      <td> 0.702032</td>\n",
        "      <td> 0.610619</td>\n",
        "      <td> 0.691020</td>\n",
        "      <td> bar</td>\n",
        "      <td>  True</td>\n",
        "    </tr>\n",
        "    <tr>\n",
        "      <th>f</th>\n",
        "      <td> 0.998054</td>\n",
        "      <td>-1.666087</td>\n",
        "      <td> 0.083426</td>\n",
        "      <td> bar</td>\n",
        "      <td>  True</td>\n",
        "    </tr>\n",
        "    <tr>\n",
        "      <th>g</th>\n",
        "      <td>      NaN</td>\n",
        "      <td>      NaN</td>\n",
        "      <td>      NaN</td>\n",
        "      <td> NaN</td>\n",
        "      <td>   NaN</td>\n",
        "    </tr>\n",
        "    <tr>\n",
        "      <th>h</th>\n",
        "      <td>-0.901936</td>\n",
        "      <td> 0.864991</td>\n",
        "      <td>-0.769040</td>\n",
        "      <td> bar</td>\n",
        "      <td> False</td>\n",
        "    </tr>\n",
        "  </tbody>\n",
        "</table>\n",
        "</div>"
       ],
       "metadata": {},
       "output_type": "pyout",
       "prompt_number": 33,
       "text": [
        "        one       two     three four   five\n",
        "a  1.107447  0.471134 -1.284425  bar   True\n",
        "b       NaN       NaN       NaN  NaN    NaN\n",
        "c  1.694742 -0.564540  0.410716  bar   True\n",
        "d       NaN       NaN       NaN  NaN    NaN\n",
        "e  0.702032  0.610619  0.691020  bar   True\n",
        "f  0.998054 -1.666087  0.083426  bar   True\n",
        "g       NaN       NaN       NaN  NaN    NaN\n",
        "h -0.901936  0.864991 -0.769040  bar  False"
       ]
      }
     ],
     "prompt_number": 33
    },
    {
     "cell_type": "code",
     "collapsed": false,
     "input": [
      "#This is one way to index a column in pandas\n",
      "df2['one']"
     ],
     "language": "python",
     "metadata": {},
     "outputs": [
      {
       "metadata": {},
       "output_type": "pyout",
       "prompt_number": 34,
       "text": [
        "a    1.107447\n",
        "b         NaN\n",
        "c    1.694742\n",
        "d         NaN\n",
        "e    0.702032\n",
        "f    0.998054\n",
        "g         NaN\n",
        "h   -0.901936\n",
        "Name: one, dtype: float64"
       ]
      }
     ],
     "prompt_number": 34
    },
    {
     "cell_type": "markdown",
     "metadata": {},
     "source": [
      "pandas has two functions *isnull()* and *notnull()* that return boolean objects when called."
     ]
    },
    {
     "cell_type": "code",
     "collapsed": false,
     "input": [
      "pd.isnull(df2['one'])"
     ],
     "language": "python",
     "metadata": {},
     "outputs": [
      {
       "metadata": {},
       "output_type": "pyout",
       "prompt_number": 37,
       "text": [
        "a    False\n",
        "b     True\n",
        "c    False\n",
        "d     True\n",
        "e    False\n",
        "f    False\n",
        "g     True\n",
        "h    False\n",
        "Name: one, dtype: bool"
       ]
      }
     ],
     "prompt_number": 37
    },
    {
     "cell_type": "code",
     "collapsed": false,
     "input": [
      "pd.notnull(df2['one'])"
     ],
     "language": "python",
     "metadata": {},
     "outputs": [
      {
       "metadata": {},
       "output_type": "pyout",
       "prompt_number": 38,
       "text": [
        "a     True\n",
        "b    False\n",
        "c     True\n",
        "d    False\n",
        "e     True\n",
        "f     True\n",
        "g    False\n",
        "h     True\n",
        "Name: one, dtype: bool"
       ]
      }
     ],
     "prompt_number": 38
    },
    {
     "cell_type": "markdown",
     "metadata": {},
     "source": [
      "Missing values propagate naturally through arithmetic operations between pandas objects."
     ]
    },
    {
     "cell_type": "code",
     "collapsed": false,
     "input": [
      "a = df[['one','two']]\n",
      "a['one']['a':'e'] = float('nan')\n",
      "a"
     ],
     "language": "python",
     "metadata": {},
     "outputs": [
      {
       "html": [
        "<div style=\"max-height:1000px;max-width:1500px;overflow:auto;\">\n",
        "<table border=\"1\" class=\"dataframe\">\n",
        "  <thead>\n",
        "    <tr style=\"text-align: right;\">\n",
        "      <th></th>\n",
        "      <th>one</th>\n",
        "      <th>two</th>\n",
        "    </tr>\n",
        "  </thead>\n",
        "  <tbody>\n",
        "    <tr>\n",
        "      <th>a</th>\n",
        "      <td>      NaN</td>\n",
        "      <td> 0.471134</td>\n",
        "    </tr>\n",
        "    <tr>\n",
        "      <th>c</th>\n",
        "      <td>      NaN</td>\n",
        "      <td>-0.564540</td>\n",
        "    </tr>\n",
        "    <tr>\n",
        "      <th>e</th>\n",
        "      <td>      NaN</td>\n",
        "      <td> 0.610619</td>\n",
        "    </tr>\n",
        "    <tr>\n",
        "      <th>f</th>\n",
        "      <td> 0.998054</td>\n",
        "      <td>-1.666087</td>\n",
        "    </tr>\n",
        "    <tr>\n",
        "      <th>h</th>\n",
        "      <td>-0.901936</td>\n",
        "      <td> 0.864991</td>\n",
        "    </tr>\n",
        "  </tbody>\n",
        "</table>\n",
        "</div>"
       ],
       "metadata": {},
       "output_type": "pyout",
       "prompt_number": 52,
       "text": [
        "        one       two\n",
        "a       NaN  0.471134\n",
        "c       NaN -0.564540\n",
        "e       NaN  0.610619\n",
        "f  0.998054 -1.666087\n",
        "h -0.901936  0.864991"
       ]
      }
     ],
     "prompt_number": 52
    },
    {
     "cell_type": "code",
     "collapsed": false,
     "input": [
      "b = df[['one','two','three']]\n",
      "b"
     ],
     "language": "python",
     "metadata": {},
     "outputs": [
      {
       "html": [
        "<div style=\"max-height:1000px;max-width:1500px;overflow:auto;\">\n",
        "<table border=\"1\" class=\"dataframe\">\n",
        "  <thead>\n",
        "    <tr style=\"text-align: right;\">\n",
        "      <th></th>\n",
        "      <th>one</th>\n",
        "      <th>two</th>\n",
        "      <th>three</th>\n",
        "    </tr>\n",
        "  </thead>\n",
        "  <tbody>\n",
        "    <tr>\n",
        "      <th>a</th>\n",
        "      <td> 1.107447</td>\n",
        "      <td> 0.471134</td>\n",
        "      <td>-1.284425</td>\n",
        "    </tr>\n",
        "    <tr>\n",
        "      <th>c</th>\n",
        "      <td> 1.694742</td>\n",
        "      <td>-0.564540</td>\n",
        "      <td> 0.410716</td>\n",
        "    </tr>\n",
        "    <tr>\n",
        "      <th>e</th>\n",
        "      <td> 0.702032</td>\n",
        "      <td> 0.610619</td>\n",
        "      <td> 0.691020</td>\n",
        "    </tr>\n",
        "    <tr>\n",
        "      <th>f</th>\n",
        "      <td> 0.998054</td>\n",
        "      <td>-1.666087</td>\n",
        "      <td> 0.083426</td>\n",
        "    </tr>\n",
        "    <tr>\n",
        "      <th>h</th>\n",
        "      <td>-0.901936</td>\n",
        "      <td> 0.864991</td>\n",
        "      <td>-0.769040</td>\n",
        "    </tr>\n",
        "  </tbody>\n",
        "</table>\n",
        "</div>"
       ],
       "metadata": {},
       "output_type": "pyout",
       "prompt_number": 57,
       "text": [
        "        one       two     three\n",
        "a  1.107447  0.471134 -1.284425\n",
        "c  1.694742 -0.564540  0.410716\n",
        "e  0.702032  0.610619  0.691020\n",
        "f  0.998054 -1.666087  0.083426\n",
        "h -0.901936  0.864991 -0.769040"
       ]
      }
     ],
     "prompt_number": 57
    },
    {
     "cell_type": "code",
     "collapsed": false,
     "input": [
      "a + b"
     ],
     "language": "python",
     "metadata": {},
     "outputs": [
      {
       "html": [
        "<div style=\"max-height:1000px;max-width:1500px;overflow:auto;\">\n",
        "<table border=\"1\" class=\"dataframe\">\n",
        "  <thead>\n",
        "    <tr style=\"text-align: right;\">\n",
        "      <th></th>\n",
        "      <th>one</th>\n",
        "      <th>three</th>\n",
        "      <th>two</th>\n",
        "    </tr>\n",
        "  </thead>\n",
        "  <tbody>\n",
        "    <tr>\n",
        "      <th>a</th>\n",
        "      <td>      NaN</td>\n",
        "      <td>NaN</td>\n",
        "      <td> 0.942268</td>\n",
        "    </tr>\n",
        "    <tr>\n",
        "      <th>c</th>\n",
        "      <td>      NaN</td>\n",
        "      <td>NaN</td>\n",
        "      <td>-1.129080</td>\n",
        "    </tr>\n",
        "    <tr>\n",
        "      <th>e</th>\n",
        "      <td>      NaN</td>\n",
        "      <td>NaN</td>\n",
        "      <td> 1.221238</td>\n",
        "    </tr>\n",
        "    <tr>\n",
        "      <th>f</th>\n",
        "      <td> 1.996108</td>\n",
        "      <td>NaN</td>\n",
        "      <td>-3.332174</td>\n",
        "    </tr>\n",
        "    <tr>\n",
        "      <th>h</th>\n",
        "      <td>-1.803873</td>\n",
        "      <td>NaN</td>\n",
        "      <td> 1.729982</td>\n",
        "    </tr>\n",
        "  </tbody>\n",
        "</table>\n",
        "</div>"
       ],
       "metadata": {},
       "output_type": "pyout",
       "prompt_number": 58,
       "text": [
        "        one  three       two\n",
        "a       NaN    NaN  0.942268\n",
        "c       NaN    NaN -1.129080\n",
        "e       NaN    NaN  1.221238\n",
        "f  1.996108    NaN -3.332174\n",
        "h -1.803873    NaN  1.729982"
       ]
      }
     ],
     "prompt_number": 58
    },
    {
     "cell_type": "markdown",
     "metadata": {},
     "source": [
      "Summary statistics all account for missing values. \n",
      "\n",
      "*   When summing data, NA (missing) values will be treated as zero\n",
      "*   If the data are all NA, the result will be NA\n",
      "*   Methods like cumsum and cumprod ignore NA values, but preserve them in the resulting arrays"
     ]
    },
    {
     "cell_type": "code",
     "collapsed": false,
     "input": [
      "a"
     ],
     "language": "python",
     "metadata": {},
     "outputs": [
      {
       "html": [
        "<div style=\"max-height:1000px;max-width:1500px;overflow:auto;\">\n",
        "<table border=\"1\" class=\"dataframe\">\n",
        "  <thead>\n",
        "    <tr style=\"text-align: right;\">\n",
        "      <th></th>\n",
        "      <th>one</th>\n",
        "      <th>two</th>\n",
        "    </tr>\n",
        "  </thead>\n",
        "  <tbody>\n",
        "    <tr>\n",
        "      <th>a</th>\n",
        "      <td>      NaN</td>\n",
        "      <td> 0.471134</td>\n",
        "    </tr>\n",
        "    <tr>\n",
        "      <th>c</th>\n",
        "      <td>      NaN</td>\n",
        "      <td>-0.564540</td>\n",
        "    </tr>\n",
        "    <tr>\n",
        "      <th>e</th>\n",
        "      <td>      NaN</td>\n",
        "      <td> 0.610619</td>\n",
        "    </tr>\n",
        "    <tr>\n",
        "      <th>f</th>\n",
        "      <td> 0.998054</td>\n",
        "      <td>-1.666087</td>\n",
        "    </tr>\n",
        "    <tr>\n",
        "      <th>h</th>\n",
        "      <td>-0.901936</td>\n",
        "      <td> 0.864991</td>\n",
        "    </tr>\n",
        "  </tbody>\n",
        "</table>\n",
        "</div>"
       ],
       "metadata": {},
       "output_type": "pyout",
       "prompt_number": 63,
       "text": [
        "        one       two\n",
        "a       NaN  0.471134\n",
        "c       NaN -0.564540\n",
        "e       NaN  0.610619\n",
        "f  0.998054 -1.666087\n",
        "h -0.901936  0.864991"
       ]
      }
     ],
     "prompt_number": 63
    },
    {
     "cell_type": "code",
     "collapsed": false,
     "input": [
      "a['one'].sum()"
     ],
     "language": "python",
     "metadata": {},
     "outputs": [
      {
       "metadata": {},
       "output_type": "pyout",
       "prompt_number": 61,
       "text": [
        "0.096117943774613579"
       ]
      }
     ],
     "prompt_number": 61
    },
    {
     "cell_type": "code",
     "collapsed": false,
     "input": [
      "a.mean(1)"
     ],
     "language": "python",
     "metadata": {},
     "outputs": [
      {
       "metadata": {},
       "output_type": "pyout",
       "prompt_number": 62,
       "text": [
        "a    0.471134\n",
        "c   -0.564540\n",
        "e    0.610619\n",
        "f   -0.334016\n",
        "h   -0.018473\n",
        "dtype: float64"
       ]
      }
     ],
     "prompt_number": 62
    },
    {
     "cell_type": "markdown",
     "metadata": {},
     "source": [
      "*This is just the bare minimum. pandas has a lot more missing data functionality.*"
     ]
    },
    {
     "cell_type": "heading",
     "level": 2,
     "metadata": {},
     "source": [
      "Histograms"
     ]
    },
    {
     "cell_type": "heading",
     "level": 4,
     "metadata": {},
     "source": [
      "Using pandas"
     ]
    },
    {
     "cell_type": "markdown",
     "metadata": {},
     "source": [
      "Plotting histograms using pandas is quite straightforward. Using the above *values2* series, we can simply call the *hist()* method."
     ]
    },
    {
     "cell_type": "code",
     "collapsed": false,
     "input": [
      "pdhist = values2.hist()"
     ],
     "language": "python",
     "metadata": {},
     "outputs": [
      {
       "metadata": {},
       "output_type": "display_data",
       "png": "[encoded data removed]",
       "text": [
        "<matplotlib.figure.Figure at 0xa6c88cc>"
       ]
      }
     ],
     "prompt_number": 69
    },
    {
     "cell_type": "markdown",
     "metadata": {},
     "source": [
      "Parameters can be used to change the number of bins, color, transparency, etc."
     ]
    },
    {
     "cell_type": "code",
     "collapsed": false,
     "input": [
      "pdhist2 = values2.hist(bins=20, color='r',alpha=0.4, figsize=(10,6))"
     ],
     "language": "python",
     "metadata": {},
     "outputs": [
      {
       "metadata": {},
       "output_type": "display_data",
       "png": "[encoded data removed]",
       "text": [
        "<matplotlib.figure.Figure at 0xa7d84ac>"
       ]
      }
     ],
     "prompt_number": 70
    },
    {
     "cell_type": "heading",
     "level": 4,
     "metadata": {},
     "source": [
      "Using numpy + matplotlib"
     ]
    },
    {
     "cell_type": "markdown",
     "metadata": {},
     "source": [
      "While the pandas data structure has a method that automatically wraps around a call to the *hist()* method of the plotting library Matplotlib, we can achieve the same result by performing that call manually on our *values1* ndarray."
     ]
    },
    {
     "cell_type": "code",
     "collapsed": false,
     "input": [
      "import matplotlib.pyplot as plt # Required for plotting"
     ],
     "language": "python",
     "metadata": {},
     "outputs": [],
     "prompt_number": 10
    },
    {
     "cell_type": "code",
     "collapsed": false,
     "input": [
      "nphist = plt.hist(values1)"
     ],
     "language": "python",
     "metadata": {},
     "outputs": [
      {
       "metadata": {},
       "output_type": "display_data",
       "png": "[encoded data removed]",
       "text": [
        "<matplotlib.figure.Figure at 0xa5b1a4c>"
       ]
      }
     ],
     "prompt_number": 68
    },
    {
     "cell_type": "heading",
     "level": 2,
     "metadata": {},
     "source": [
      "Boxplots"
     ]
    },
    {
     "cell_type": "heading",
     "level": 4,
     "metadata": {},
     "source": [
      "Using pandas"
     ]
    },
    {
     "cell_type": "markdown",
     "metadata": {},
     "source": [
      "pandas DataFrames have a boxplot method that allows you to visualize the distribution of values within each column."
     ]
    },
    {
     "cell_type": "code",
     "collapsed": false,
     "input": [
      "df = pd.DataFrame(rand(10,2), columns=['Col1', 'Col2'] )"
     ],
     "language": "python",
     "metadata": {},
     "outputs": [],
     "prompt_number": 64
    },
    {
     "cell_type": "code",
     "collapsed": false,
     "input": [
      "df.head()"
     ],
     "language": "python",
     "metadata": {},
     "outputs": [
      {
       "html": [
        "<div style=\"max-height:1000px;max-width:1500px;overflow:auto;\">\n",
        "<table border=\"1\" class=\"dataframe\">\n",
        "  <thead>\n",
        "    <tr style=\"text-align: right;\">\n",
        "      <th></th>\n",
        "      <th>Col1</th>\n",
        "      <th>Col2</th>\n",
        "    </tr>\n",
        "  </thead>\n",
        "  <tbody>\n",
        "    <tr>\n",
        "      <th>0</th>\n",
        "      <td> 0.489845</td>\n",
        "      <td> 0.042204</td>\n",
        "    </tr>\n",
        "    <tr>\n",
        "      <th>1</th>\n",
        "      <td> 0.772240</td>\n",
        "      <td> 0.238772</td>\n",
        "    </tr>\n",
        "    <tr>\n",
        "      <th>2</th>\n",
        "      <td> 0.342109</td>\n",
        "      <td> 0.098798</td>\n",
        "    </tr>\n",
        "    <tr>\n",
        "      <th>3</th>\n",
        "      <td> 0.064402</td>\n",
        "      <td> 0.943856</td>\n",
        "    </tr>\n",
        "    <tr>\n",
        "      <th>4</th>\n",
        "      <td> 0.814987</td>\n",
        "      <td> 0.252220</td>\n",
        "    </tr>\n",
        "  </tbody>\n",
        "</table>\n",
        "</div>"
       ],
       "metadata": {},
       "output_type": "pyout",
       "prompt_number": 65,
       "text": [
        "       Col1      Col2\n",
        "0  0.489845  0.042204\n",
        "1  0.772240  0.238772\n",
        "2  0.342109  0.098798\n",
        "3  0.064402  0.943856\n",
        "4  0.814987  0.252220"
       ]
      }
     ],
     "prompt_number": 65
    },
    {
     "cell_type": "code",
     "collapsed": false,
     "input": [
      "box = df.boxplot(grid=False)"
     ],
     "language": "python",
     "metadata": {},
     "outputs": [
      {
       "metadata": {},
       "output_type": "display_data",
       "png": "[encoded data removed]",
       "text": [
        "<matplotlib.figure.Figure at 0xa423b2c>"
       ]
      }
     ],
     "prompt_number": 67
    },
    {
     "cell_type": "heading",
     "level": 4,
     "metadata": {},
     "source": [
      "Using numpy + matplotlib"
     ]
    },
    {
     "cell_type": "code",
     "collapsed": false,
     "input": [
      "fig = plt.figure()\n",
      "ax = fig.add_subplot(111)\n",
      "\n",
      "x1 = np.random.normal(0,1,50)\n",
      "x2 = np.random.normal(1,1,50)\n",
      "\n",
      "npbox = ax.boxplot([x1,x2])"
     ],
     "language": "python",
     "metadata": {},
     "outputs": [
      {
       "metadata": {},
       "output_type": "display_data",
       "png": "[encoded data removed]",
       "text": [
        "<matplotlib.figure.Figure at 0xaa87a4c>"
       ]
      }
     ],
     "prompt_number": 71
    },
    {
     "cell_type": "heading",
     "level": 2,
     "metadata": {},
     "source": [
      "Scatterplots"
     ]
    },
    {
     "cell_type": "heading",
     "level": 4,
     "metadata": {},
     "source": [
      "Using pandas"
     ]
    },
    {
     "cell_type": "markdown",
     "metadata": {},
     "source": [
      "Let's define a dataframe containing 2 columns, each with 200 random numbers < 1."
     ]
    },
    {
     "cell_type": "code",
     "collapsed": false,
     "input": [
      "df = pd.DataFrame(rand(200,2))"
     ],
     "language": "python",
     "metadata": {},
     "outputs": [],
     "prompt_number": 73
    },
    {
     "cell_type": "code",
     "collapsed": false,
     "input": [
      "pdscatter = plt.scatter(df[0], df[1])"
     ],
     "language": "python",
     "metadata": {},
     "outputs": [
      {
       "metadata": {},
       "output_type": "display_data",
       "png": "[encoded data removed]",
       "text": [
        "<matplotlib.figure.Figure at 0xaa87c4c>"
       ]
      }
     ],
     "prompt_number": 74
    },
    {
     "cell_type": "heading",
     "level": 4,
     "metadata": {},
     "source": [
      "Using numpy + matplotlib"
     ]
    },
    {
     "cell_type": "code",
     "collapsed": false,
     "input": [
      "x = np.random.randn(200)\n",
      "y = np.random.randn(200)\n",
      "\n",
      "fig = plt.figure()\n",
      "ax = fig.add_subplot(111)\n",
      "\n",
      "npscatter = ax.scatter(x,y,color='r')"
     ],
     "language": "python",
     "metadata": {},
     "outputs": [
      {
       "metadata": {},
       "output_type": "display_data",
       "png": "[encoded data removed]",
       "text": [
        "<matplotlib.figure.Figure at 0xac4526c>"
       ]
      }
     ],
     "prompt_number": 75
    }
   ],
   "metadata": {}
  }
 ]
}
