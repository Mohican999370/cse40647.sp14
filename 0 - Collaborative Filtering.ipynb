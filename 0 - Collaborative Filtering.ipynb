{
 "metadata": {
  "name": ""
 },
 "nbformat": 3,
 "nbformat_minor": 0,
 "worksheets": [
  {
   "cells": [
    {
     "cell_type": "heading",
     "level": 1,
     "metadata": {},
     "source": [
      "Introduction to Collaborative Filtering"
     ]
    },
    {
     "cell_type": "heading",
     "level": 3,
     "metadata": {},
     "source": [
      "Example extracted from *Programming Collective Intelligence* by Toby Segaran."
     ]
    },
    {
     "cell_type": "heading",
     "level": 4,
     "metadata": {},
     "source": [
      "1 - Collecting and storing movie ratings"
     ]
    },
    {
     "cell_type": "markdown",
     "metadata": {},
     "source": [
      "Bellow we define a dictionary of movie critics and their ratings of a small set of movies:"
     ]
    },
    {
     "cell_type": "code",
     "collapsed": false,
     "input": [
      "critics={'Lisa Rose': {'Lady in the Water': 2.5, 'Snakes on a Plane': 3.5,\n",
      "'Just My Luck': 3.0, 'Superman Returns': 3.5, 'You, Me and Dupree': 2.5,\n",
      "'The Night Listener': 3.0},\n",
      "'Gene Seymour': {'Lady in the Water': 3.0, 'Snakes on a Plane': 3.5,\n",
      "'Just My Luck': 1.5, 'Superman Returns': 5.0, 'The Night Listener': 3.0,\n",
      "'You, Me and Dupree': 3.5},\n",
      "'Michael Phillips': {'Lady in the Water': 2.5, 'Snakes on a Plane': 3.0,\n",
      "'Superman Returns': 3.5, 'The Night Listener': 4.0},\n",
      "'Claudia Puig': {'Snakes on a Plane': 3.5, 'Just My Luck': 3.0,\n",
      "'The Night Listener': 4.5, 'Superman Returns': 4.0,\n",
      "'You, Me and Dupree': 2.5},\n",
      "'Mick LaSalle': {'Lady in the Water': 3.0, 'Snakes on a Plane': 4.0,\n",
      "'Just My Luck': 2.0, 'Superman Returns': 3.0, 'The Night Listener': 3.0,\n",
      "'You, Me and Dupree': 2.0},\n",
      "'Jack Matthews': {'Lady in the Water': 3.0, 'Snakes on a Plane': 4.0,\n",
      "'The Night Listener': 3.0, 'Superman Returns': 5.0, 'You, Me and Dupree': 3.5},\n",
      "'Toby': {'Snakes on a Plane':4.5,'You, Me and Dupree':1.0,'Superman Returns':4.0}}"
     ],
     "language": "python",
     "metadata": {},
     "outputs": [],
     "prompt_number": 1
    },
    {
     "cell_type": "markdown",
     "metadata": {},
     "source": [
      "We can then easily pull data from the above dictionary of ratings. For instance, if we wish to know what score Lisa Rose gave to the movie *Lady in the Water*, we can simply use the following:"
     ]
    },
    {
     "cell_type": "code",
     "collapsed": false,
     "input": [
      "critics['Lisa Rose']['Lady in the Water']"
     ],
     "language": "python",
     "metadata": {},
     "outputs": [
      {
       "metadata": {},
       "output_type": "pyout",
       "prompt_number": 3,
       "text": [
        "2.5"
       ]
      }
     ],
     "prompt_number": 3
    },
    {
     "cell_type": "markdown",
     "metadata": {},
     "source": [
      "Likewise, if we wish to see all ratings provided by Toby:"
     ]
    },
    {
     "cell_type": "code",
     "collapsed": false,
     "input": [
      "critics['Toby']"
     ],
     "language": "python",
     "metadata": {},
     "outputs": [
      {
       "metadata": {},
       "output_type": "pyout",
       "prompt_number": 4,
       "text": [
        "{'Snakes on a Plane': 4.5, 'Superman Returns': 4.0, 'You, Me and Dupree': 1.0}"
       ]
      }
     ],
     "prompt_number": 4
    },
    {
     "cell_type": "heading",
     "level": 4,
     "metadata": {},
     "source": [
      "2 - Finding Similar Users"
     ]
    },
    {
     "cell_type": "markdown",
     "metadata": {},
     "source": [
      "After collecting the ratings, we now need to determine how similar people are in their tastes. We will provide two approaches for doing so: Eucledian distance and Pearson correlation."
     ]
    },
    {
     "cell_type": "markdown",
     "metadata": {},
     "source": [
      "Eucledian distance scores can be illustrated by taking the items that people ranked in common and using them as axes for a chart as seen bellow:"
     ]
    },
    {
     "cell_type": "code",
     "collapsed": false,
     "input": [
      "from IPython.core.display import Image \n",
      "Image(width=600,url='http://i.imgur.com/TeM7mJs.png')"
     ],
     "language": "python",
     "metadata": {},
     "outputs": [
      {
       "html": [
        "<img src=\"http://i.imgur.com/TeM7mJs.png\" width=\"600\"/>"
       ],
       "metadata": {},
       "output_type": "pyout",
       "prompt_number": 38,
       "text": [
        "<IPython.core.display.Image at 0x9e2162c>"
       ]
      }
     ],
     "prompt_number": 38
    },
    {
     "cell_type": "markdown",
     "metadata": {},
     "source": [
      "The closer people are in the above chart, the more similar their preferences are. Note, however, that a big limitation of this approach is that since it uses a two-dimentional chart, we can only compare people based on their ratings of two movies. However, the same principle can be expanded to higher dimentions."
     ]
    },
    {
     "cell_type": "markdown",
     "metadata": {},
     "source": [
      "We can compute the distance between Toby and LaSalle above by using the Eucledian distance formula:"
     ]
    },
    {
     "cell_type": "markdown",
     "metadata": {},
     "source": [
      "<h3 align=\"center\">$$d(t,l) = \\sqrt{(t_1-l_1)^2 + (t_2-l_2)^2}$$</h3> "
     ]
    },
    {
     "cell_type": "code",
     "collapsed": false,
     "input": [
      "from math import sqrt\n",
      "sqrt(pow(5-4,2)+pow(4-1,2))"
     ],
     "language": "python",
     "metadata": {},
     "outputs": [
      {
       "metadata": {},
       "output_type": "pyout",
       "prompt_number": 14,
       "text": [
        "3.1622776601683795"
       ]
      }
     ],
     "prompt_number": 14
    },
    {
     "cell_type": "markdown",
     "metadata": {},
     "source": [
      "The above result gives us the actual distance between each person. If we wish to have a score that assumes higher values for people who are more similar, we can add 1 to the formula and invert it. All values will now be between 0-1."
     ]
    },
    {
     "cell_type": "code",
     "collapsed": false,
     "input": [
      "1/(1+sqrt(pow(5-4,2)+pow(4-1,2)))"
     ],
     "language": "python",
     "metadata": {},
     "outputs": [
      {
       "metadata": {},
       "output_type": "pyout",
       "prompt_number": 15,
       "text": [
        "0.2402530733520421"
       ]
      }
     ],
     "prompt_number": 15
    },
    {
     "cell_type": "markdown",
     "metadata": {},
     "source": [
      "Putting everything together into a function for calculating similarity gives:"
     ]
    },
    {
     "cell_type": "code",
     "collapsed": false,
     "input": [
      "# Returns a distance-based similarity score for person1 and person2\n",
      "def sim_distance(prefs,person1,person2):\n",
      "    \n",
      "    # Get the list of shared_items\n",
      "    si={}\n",
      "    for item in prefs[person1]:\n",
      "        if item in prefs[person2]:\n",
      "            si[item]=1\n",
      "    \n",
      "    # if they have no ratings in common, return 0\n",
      "    if len(si)==0: return 0\n",
      "    \n",
      "    # Add up the squares of all the differences\n",
      "    sum_of_squares=sum([pow(prefs[person1][item]-prefs[person2][item],2)\n",
      "                        for item in prefs[person1] if item in prefs[person2]])\n",
      "\n",
      "    return 1/(1+sum_of_squares)"
     ],
     "language": "python",
     "metadata": {},
     "outputs": [],
     "prompt_number": 16
    },
    {
     "cell_type": "markdown",
     "metadata": {},
     "source": [
      "The following gives us the similarity score between Lisa Rose and Gene Seymour:"
     ]
    },
    {
     "cell_type": "code",
     "collapsed": false,
     "input": [
      "sim_distance(critics,'Lisa Rose','Gene Seymour')"
     ],
     "language": "python",
     "metadata": {},
     "outputs": [
      {
       "metadata": {},
       "output_type": "pyout",
       "prompt_number": 17,
       "text": [
        "0.14814814814814814"
       ]
      }
     ],
     "prompt_number": 17
    },
    {
     "cell_type": "markdown",
     "metadata": {},
     "source": [
      "We can also easily check if Lisa is more similar  to Gene or Toby as follows:"
     ]
    },
    {
     "cell_type": "code",
     "collapsed": false,
     "input": [
      "s1 = sim_distance(critics,'Lisa Rose','Gene Seymour'); s2 = sim_distance(critics,'Lisa Rose','Toby')\n",
      "if s1 < s2:\n",
      "    print 'Lisa is more similar to Gene than she is to Toby. Distance = ' + str(s1)\n",
      "else:\n",
      "    print 'Lisa is more similar to Toby than she is to Gene. Distance = ' + str(s2)"
     ],
     "language": "python",
     "metadata": {},
     "outputs": [
      {
       "output_type": "stream",
       "stream": "stdout",
       "text": [
        "Lisa is more similar to Gene than she is to Toby. Distance = 0.148148148148\n"
       ]
      }
     ],
     "prompt_number": 28
    },
    {
     "cell_type": "markdown",
     "metadata": {},
     "source": [
      "Further, we can compute similarities using a more sofisticated approach. Pearson correlation coefficients measure how well two sets of data fit on a straight (*best-fit*) line. We can illustrate this by plotting all ratings by two different people on a chart. The closer these ratings are to the line, the more similar these individuals are. Bellow is an example of such plots:"
     ]
    },
    {
     "cell_type": "code",
     "collapsed": false,
     "input": [
      "Image(width=600,url='http://i.imgur.com/hzUlTAR.png')"
     ],
     "language": "python",
     "metadata": {},
     "outputs": [
      {
       "html": [
        "<img src=\"http://i.imgur.com/hzUlTAR.png\" width=\"600\"/>"
       ],
       "metadata": {},
       "output_type": "pyout",
       "prompt_number": 37,
       "text": [
        "<IPython.core.display.Image at 0x9e214ac>"
       ]
      }
     ],
     "prompt_number": 37
    },
    {
     "cell_type": "markdown",
     "metadata": {},
     "source": [
      "A perfect correlation score of 1 would be illustrated with all ratings falling exactly over the best-fit line. Further, note that one major advantage of this approach over the previous is that it corrects for *grade inflation*. That is, if a critic consistently grades movies more harshly than another, as long as the two people follow the same pattern of rating, their correlation scores will still illustrate that similarity, whereas Eucledian distances would not."
     ]
    },
    {
     "cell_type": "raw",
     "metadata": {},
     "source": [
      "The following code computes the correlation score between the ratings given by two people. Unlike the distance metric, this formula is not very intuitive, but it does tell you how much the variables change together divided by the product of how much\n",
      "they vary individually."
     ]
    },
    {
     "cell_type": "code",
     "collapsed": false,
     "input": [
      "# Returns the Pearson correlation coefficient for p1 and p2\n",
      "def sim_pearson(prefs,p1,p2):\n",
      "    # Get the list of mutually rated items\n",
      "    si={}\n",
      "    for item in prefs[p1]:\n",
      "        if item in prefs[p2]: si[item]=1\n",
      "\n",
      "    # Find the number of elements\n",
      "    n=len(si)\n",
      "\n",
      "    # if they are no ratings in common, return 0\n",
      "    if n==0: return 0\n",
      "\n",
      "    # Add up all the preferences\n",
      "    sum1=sum([prefs[p1][it] for it in si])\n",
      "    sum2=sum([prefs[p2][it] for it in si])\n",
      "\n",
      "    # Sum up the squares\n",
      "    sum1Sq=sum([pow(prefs[p1][it],2) for it in si])\n",
      "    sum2Sq=sum([pow(prefs[p2][it],2) for it in si])\n",
      "\n",
      "    # Sum up the products\n",
      "    pSum=sum([prefs[p1][it]*prefs[p2][it] for it in si])\n",
      "\n",
      "    # Calculate Pearson score\n",
      "    num=pSum-(sum1*sum2/n)\n",
      "    den=sqrt((sum1Sq-pow(sum1,2)/n)*(sum2Sq-pow(sum2,2)/n))\n",
      "    if den==0: return 0\n",
      "\n",
      "    r=num/den\n",
      "    return r"
     ],
     "language": "python",
     "metadata": {},
     "outputs": [],
     "prompt_number": 30
    },
    {
     "cell_type": "markdown",
     "metadata": {},
     "source": [
      "This function will return a value between \u20131 and 1. A value of 1 means that the two people have exactly the same ratings for every item. The following gives us the correlation illustrated by the image above:\n"
     ]
    },
    {
     "cell_type": "code",
     "collapsed": false,
     "input": [
      "sim_pearson(critics,'Lisa Rose','Jack Matthews')\n"
     ],
     "language": "python",
     "metadata": {},
     "outputs": [
      {
       "metadata": {},
       "output_type": "pyout",
       "prompt_number": 32,
       "text": [
        "0.74701788083399645"
       ]
      }
     ],
     "prompt_number": 32
    },
    {
     "cell_type": "heading",
     "level": 4,
     "metadata": {},
     "source": [
      "3 - Ranking the Critics"
     ]
    },
    {
     "cell_type": "markdown",
     "metadata": {},
     "source": [
      "Using the above functions we can write another function that compares everyone against a certain person. This would allow me to find out which critic is most similar me so that I know whose advise I should take when deciding on a movie."
     ]
    },
    {
     "cell_type": "code",
     "collapsed": false,
     "input": [
      "# Returns the best matches for person from the prefs dictionary.\n",
      "# Number of results and similarity function are optional params.\n",
      "def topMatches(prefs,person,n=5,similarity=sim_pearson):\n",
      "    scores=[(similarity(prefs,person,other),other)\n",
      "    for other in prefs if other!=person]\n",
      "\n",
      "    # Sort the list so the highest scores appear at the top\n",
      "    scores.sort( )\n",
      "    scores.reverse( )\n",
      "    return scores[0:n]"
     ],
     "language": "python",
     "metadata": {},
     "outputs": [],
     "prompt_number": 33
    },
    {
     "cell_type": "markdown",
     "metadata": {},
     "source": [
      "Lets see which three critics are most similar to Toby:"
     ]
    },
    {
     "cell_type": "code",
     "collapsed": false,
     "input": [
      "topMatches(critics,'Toby',n=3)"
     ],
     "language": "python",
     "metadata": {},
     "outputs": [
      {
       "metadata": {},
       "output_type": "pyout",
       "prompt_number": 36,
       "text": [
        "[(0.99124070716192991, 'Lisa Rose'),\n",
        " (0.92447345164190486, 'Mick LaSalle'),\n",
        " (0.89340514744156474, 'Claudia Puig')]"
       ]
      }
     ],
     "prompt_number": 36
    },
    {
     "cell_type": "heading",
     "level": 4,
     "metadata": {},
     "source": [
      "4 - Recommending Items"
     ]
    },
    {
     "cell_type": "markdown",
     "metadata": {},
     "source": [
      "Suppose we would like to see movie recommendations instead of comparing ourselves to critics. A naive approach would be to find critics with similar tastes and pick movies that they rated highly that we have not yet seen. This would cause two problems, however: (1) it could accidently turn up reviewers that have not reviwed movies that I might like, or (2) it could turn up reviewers that give high ratings to movies that everyone else rates poorly."
     ]
    },
    {
     "cell_type": "markdown",
     "metadata": {},
     "source": [
      "To solve these issues, you need to score the items by producing a weighted score that ranks the critics. Take the votes of all the other critics and multiply how similar they are to you by the score they gave each movie. The following table shows how this process works when creating recommendations for Toby.\n"
     ]
    },
    {
     "cell_type": "code",
     "collapsed": false,
     "input": [
      "Image(width=800,url='http://i.imgur.com/OLfRWHy.png?1')"
     ],
     "language": "python",
     "metadata": {},
     "outputs": [
      {
       "html": [
        "<img src=\"http://i.imgur.com/OLfRWHy.png?1\" width=\"800\"/>"
       ],
       "metadata": {},
       "output_type": "pyout",
       "prompt_number": 43,
       "text": [
        "<IPython.core.display.Image at 0x9e1e3ec>"
       ]
      }
     ],
     "prompt_number": 43
    },
    {
     "cell_type": "markdown",
     "metadata": {},
     "source": [
      "Following is a code snippet for a function that returns ranked recommendations for a given user. Both Eucledian distances and Pearson correlation scores can be used."
     ]
    },
    {
     "cell_type": "code",
     "collapsed": false,
     "input": [
      "# Gets recommendations for a person by using a weighted average\n",
      "# of every other user's rankings\n",
      "def getRecommendations(prefs,person,similarity=sim_pearson):\n",
      "    totals={}\n",
      "    simSums={}\n",
      "\n",
      "    for other in prefs:\n",
      "        # don't compare me to myself\n",
      "        if other==person: continue\n",
      "        sim=similarity(prefs,person,other)\n",
      "\n",
      "        # ignore scores of zero or lower\n",
      "        if sim<=0: continue\n",
      "        for item in prefs[other]:\n",
      "\n",
      "            # only score movies I haven't seen yet\n",
      "            if item not in prefs[person] or prefs[person][item]==0:\n",
      "                # Similarity * Score\n",
      "                totals.setdefault(item,0)\n",
      "                totals[item]+=prefs[other][item]*sim\n",
      "                # Sum of similarities\n",
      "                simSums.setdefault(item,0)\n",
      "                simSums[item]+=sim\n",
      "    \n",
      "    # Create the normalized list\n",
      "    rankings=[(total/simSums[item],item) for item,total in totals.items( )]\n",
      "\n",
      "    # Return the sorted list\n",
      "    rankings.sort( )\n",
      "    rankings.reverse( )\n",
      "    return rankings"
     ],
     "language": "python",
     "metadata": {},
     "outputs": [],
     "prompt_number": 45
    },
    {
     "cell_type": "markdown",
     "metadata": {},
     "source": [
      "Now you can find out what movies Toby should watch next"
     ]
    },
    {
     "cell_type": "code",
     "collapsed": false,
     "input": [],
     "language": "python",
     "metadata": {},
     "outputs": []
    }
   ],
   "metadata": {}
  }
 ]
}