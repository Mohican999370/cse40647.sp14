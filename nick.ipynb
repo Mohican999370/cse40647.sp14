{
 "metadata": {
  "name": "",
  "signature": "sha256:278cc79d34ee21cb28daba382d168321195428014991d3d5883019e2d9637d7d"
 },
 "nbformat": 3,
 "nbformat_minor": 0,
 "worksheets": [
  {
   "cells": [
    {
     "cell_type": "code",
     "collapsed": false,
     "input": [
      "import numpy as np\n",
      "from sklearn import datasets\n",
      "from sklearn.cross_validation import train_test_split\n",
      "from sklearn import tree\n",
      "\n",
      "# Import some data to play with\n",
      "iris = datasets.load_iris()\n",
      "X = iris.data\n",
      "y = iris.target"
     ],
     "language": "python",
     "metadata": {},
     "outputs": [],
     "prompt_number": 4
    },
    {
     "cell_type": "code",
     "collapsed": false,
     "input": [
      "# Add noisy features to make the problem harder\n",
      "random_state = np.random.RandomState(0)\n",
      "n_samples, n_features = X.shape\n",
      "X = np.c_[X, random_state.randn(n_samples, 200 * n_features)]\n",
      "\n",
      "\n",
      "# shuffle and split training and test sets\n",
      "X_train, X_test, y_train, y_test = train_test_split(X, y, test_size=.5, random_state=0)\n"
     ],
     "language": "python",
     "metadata": {},
     "outputs": [],
     "prompt_number": 5
    },
    {
     "cell_type": "code",
     "collapsed": false,
     "input": [
      "clf = tree.DecisionTreeClassifier()\n",
      "print clf.fit(X_train, y_train).predict_proba(X_test)[0:10]"
     ],
     "language": "python",
     "metadata": {},
     "outputs": [
      {
       "output_type": "stream",
       "stream": "stdout",
       "text": [
        "[[ 0.  0.  1.]\n",
        " [ 0.  1.  0.]\n",
        " [ 1.  0.  0.]\n",
        " [ 0.  0.  1.]\n",
        " [ 1.  0.  0.]\n",
        " [ 0.  0.  1.]\n",
        " [ 1.  0.  0.]\n",
        " [ 0.  1.  0.]\n",
        " [ 0.  1.  0.]\n",
        " [ 0.  0.  1.]]\n"
       ]
      }
     ],
     "prompt_number": 7
    },
    {
     "cell_type": "code",
     "collapsed": false,
     "input": [
      "clf2 = tree.DecisionTreeClassifier(min_samples_split =60)\n",
      "print clf2.fit(X_train, y_train).predict_proba(X_test)[0:10]"
     ],
     "language": "python",
     "metadata": {},
     "outputs": [
      {
       "output_type": "stream",
       "stream": "stdout",
       "text": [
        "[[ 0.          0.43478261  0.56521739]\n",
        " [ 0.          0.43478261  0.56521739]\n",
        " [ 1.          0.          0.        ]\n",
        " [ 0.          0.43478261  0.56521739]\n",
        " [ 1.          0.          0.        ]\n",
        " [ 0.          0.43478261  0.56521739]\n",
        " [ 1.          0.          0.        ]\n",
        " [ 0.          0.43478261  0.56521739]\n",
        " [ 0.          0.43478261  0.56521739]\n",
        " [ 0.          0.43478261  0.56521739]]\n"
       ]
      }
     ],
     "prompt_number": 15
    },
    {
     "cell_type": "code",
     "collapsed": false,
     "input": [],
     "language": "python",
     "metadata": {},
     "outputs": []
    }
   ],
   "metadata": {}
  }
 ]
}
