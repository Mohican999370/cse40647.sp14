{
 "metadata": {
  "name": "",
  "signature": "sha256:4ba552b33a15e7783f8f1d0847f57ae7b78e2d06b2887c3311ae8a478b2e9c9b"
 },
 "nbformat": 3,
 "nbformat_minor": 0,
 "worksheets": [
  {
   "cells": [
    {
     "cell_type": "code",
     "collapsed": false,
     "input": [
      "import numpy as np\n",
      "from sklearn import datasets\n",
      "from sklearn.cross_validation import train_test_split\n",
      "from sklearn import tree\n",
      "from sklearn.ensemble import RandomForestClassifier\n",
      "\n",
      "# Import some data to play with\n",
      "iris = datasets.load_iris()\n",
      "X = iris.data\n",
      "y = iris.target"
     ],
     "language": "python",
     "metadata": {},
     "outputs": [],
     "prompt_number": 1
    },
    {
     "cell_type": "code",
     "collapsed": false,
     "input": [
      "# Add noisy features to make the problem harder\n",
      "random_state = np.random.RandomState(0)\n",
      "n_samples, n_features = X.shape\n",
      "X = np.c_[X, random_state.randn(n_samples, 200 * n_features)]\n",
      "\n",
      "\n",
      "# shuffle and split training and test sets\n",
      "X_train, X_test, y_train, y_test = train_test_split(X, y, test_size=.5, random_state=0)\n"
     ],
     "language": "python",
     "metadata": {},
     "outputs": [],
     "prompt_number": 2
    },
    {
     "cell_type": "code",
     "collapsed": false,
     "input": [
      "clf = tree.DecisionTreeClassifier()\n",
      "print clf.fit(X_train, y_train).predict_proba(X_test)[0:10]"
     ],
     "language": "python",
     "metadata": {},
     "outputs": [
      {
       "output_type": "stream",
       "stream": "stdout",
       "text": [
        "[[ 0.  0.  1.]\n",
        " [ 0.  1.  0.]\n",
        " [ 1.  0.  0.]\n",
        " [ 0.  0.  1.]\n",
        " [ 1.  0.  0.]\n",
        " [ 0.  0.  1.]\n",
        " [ 1.  0.  0.]\n",
        " [ 0.  1.  0.]\n",
        " [ 0.  1.  0.]\n",
        " [ 0.  1.  0.]]\n"
       ]
      }
     ],
     "prompt_number": 3
    },
    {
     "cell_type": "code",
     "collapsed": false,
     "input": [
      "clf2 = tree.DecisionTreeClassifier(min_samples_split =60)\n",
      "print clf2.fit(X_train, y_train).predict_proba(X_test)[0:10]"
     ],
     "language": "python",
     "metadata": {},
     "outputs": [
      {
       "output_type": "stream",
       "stream": "stdout",
       "text": [
        "[[ 0.          0.43478261  0.56521739]\n",
        " [ 0.          0.43478261  0.56521739]\n",
        " [ 1.          0.          0.        ]\n",
        " [ 0.          0.43478261  0.56521739]\n",
        " [ 1.          0.          0.        ]\n",
        " [ 0.          0.43478261  0.56521739]\n",
        " [ 1.          0.          0.        ]\n",
        " [ 0.          0.43478261  0.56521739]\n",
        " [ 0.          0.43478261  0.56521739]\n",
        " [ 0.          0.43478261  0.56521739]]\n"
       ]
      }
     ],
     "prompt_number": 4
    },
    {
     "cell_type": "code",
     "collapsed": false,
     "input": [
      "clf3 = RandomForestClassifier(n_estimators=50, n_jobs=-1)\n",
      "print clf3.fit(X_train, y_train).predict_proba(X_test)[0:10]"
     ],
     "language": "python",
     "metadata": {},
     "outputs": [
      {
       "output_type": "stream",
       "stream": "stdout",
       "text": [
        "[[ 0.14  0.38  0.48]\n",
        " [ 0.3   0.36  0.34]\n",
        " [ 0.36  0.3   0.34]\n",
        " [ 0.3   0.22  0.48]\n",
        " [ 0.48  0.3   0.22]\n",
        " [ 0.36  0.28  0.36]\n",
        " [ 0.62  0.16  0.22]\n",
        " [ 0.34  0.38  0.28]\n",
        " [ 0.3   0.38  0.32]\n",
        " [ 0.28  0.32  0.4 ]]\n"
       ]
      }
     ],
     "prompt_number": 5
    }
   ],
   "metadata": {}
  }
 ]
}
