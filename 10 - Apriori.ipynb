{
 "metadata": {
  "name": ""
 },
 "nbformat": 3,
 "nbformat_minor": 0,
 "worksheets": [
  {
   "cells": [
    {
     "cell_type": "markdown",
     "metadata": {},
     "source": [
      "Modified from \"https://gist.github.com/marcelcaraciolo/1423287\"."
     ]
    },
    {
     "cell_type": "heading",
     "level": 3,
     "metadata": {},
     "source": [
      "Function definitions:"
     ]
    },
    {
     "cell_type": "markdown",
     "metadata": {},
     "source": [
      "*   <b>createCandidates(dataset)</b>: Creates a list of candidate itemsets of size one\n",
      "*   <b>supportPrune(dataset, candidates, min_support)</b>: Returns all candidates that meet a minimum support threhsold\n",
      "*   <b>aprioriGen(freq_sets, k)</b>: Generates the joint transactions from candidate sets\n",
      "*   <b>apriori(dataset, minsupport=0.5)</b>: Generates a list of candidate itemsets\n",
      "*   <b>rules_from_conseq(freqSet, H, support_data, rules, min_confidence=0.7)</b>: Generates a set of candidate rules\n",
      "*   <b>calc_confidence(freqSet, H, support_data, rules, min_confidence=0.7)</b>: Evaluates the rule generated\n",
      "*   <b>generateRules(L, support_data, min_confidence=0.7)</b>: Creates the association rules for a list of frequent itemsets <i>L</i>, the corresponding suport data for those itemsets <i>support_data</i>, and the minimum confidence threshold <i>min_confidence</i>"
     ]
    },
    {
     "cell_type": "code",
     "collapsed": false,
     "input": [
      "def createCandidates(dataset):\n",
      "    c1 = []\n",
      "    for transaction in dataset:\n",
      "        for item in transaction:\n",
      "            if not [item] in c1:\n",
      "                c1.append([item])\n",
      "    c1.sort()\n",
      "    # frozenset because it will be the key of a dictionary\n",
      "    return map(frozenset, c1)"
     ],
     "language": "python",
     "metadata": {},
     "outputs": [],
     "prompt_number": 1
    },
    {
     "cell_type": "code",
     "collapsed": false,
     "input": [
      "def supportPrune(dataset, candidates, min_support):\n",
      "    sscnt = {}\n",
      "    for tid in dataset:\n",
      "        for can in candidates:\n",
      "            if can.issubset(tid):\n",
      "                sscnt.setdefault(can, 0)\n",
      "                sscnt[can] += 1\n",
      " \n",
      "    num_items = float(len(dataset))\n",
      "    retlist = []\n",
      "    support_data = {}\n",
      "    for key in sscnt:\n",
      "        support = sscnt[key] / num_items\n",
      "        if support >= min_support:\n",
      "            retlist.insert(0, key)\n",
      "        support_data[key] = support\n",
      "    return retlist, support_data"
     ],
     "language": "python",
     "metadata": {},
     "outputs": [],
     "prompt_number": 2
    },
    {
     "cell_type": "code",
     "collapsed": false,
     "input": [
      "def aprioriGen(freq_sets, k):\n",
      "    retList = []\n",
      "    lenLk = len(freq_sets)\n",
      "    for i in range(lenLk):\n",
      "        for j in range(i + 1, lenLk):\n",
      "            L1 = list(freq_sets[i])[:k - 2]\n",
      "            L2 = list(freq_sets[j])[:k - 2]\n",
      "            L1.sort()\n",
      "            L2.sort()\n",
      "            if L1 == L2:\n",
      "                retList.append(freq_sets[i] | freq_sets[j])\n",
      "    return retList"
     ],
     "language": "python",
     "metadata": {},
     "outputs": [],
     "prompt_number": 3
    },
    {
     "cell_type": "code",
     "collapsed": false,
     "input": [
      "def apriori(dataset, minsupport=0.5):\n",
      "    C1 = createCandidates(dataset)\n",
      "    D = map(set, dataset)\n",
      "    L1, support_data = supportPrune(D, C1, minsupport)\n",
      "    L = [L1]\n",
      "    k = 2\n",
      "    while (len(L[k - 2]) > 0):\n",
      "        Ck = aprioriGen(L[k - 2], k)\n",
      "        Lk, supK = supportPrune(D, Ck, minsupport)\n",
      "        support_data.update(supK)\n",
      "        L.append(Lk)\n",
      "        k += 1\n",
      " \n",
      "    return L, support_data"
     ],
     "language": "python",
     "metadata": {},
     "outputs": [],
     "prompt_number": 4
    },
    {
     "cell_type": "code",
     "collapsed": false,
     "input": [
      "def rules_from_conseq(freqSet, H, support_data, rules, min_confidence=0.7):\n",
      "    m = len(H[0])\n",
      "    if (len(freqSet) > (m + 1)):\n",
      "        Hmp1 = aprioriGen(H, m + 1)\n",
      "        Hmp1 = calc_confidence(freqSet, Hmp1,  support_data, rules, min_confidence)\n",
      "        if len(Hmp1) > 1:\n",
      "            rules_from_conseq(freqSet, Hmp1, support_data, rules, min_confidence)"
     ],
     "language": "python",
     "metadata": {},
     "outputs": [],
     "prompt_number": 5
    },
    {
     "cell_type": "code",
     "collapsed": false,
     "input": [
      "def calc_confidence(freqSet, H, support_data, rules, min_confidence=0.7):\n",
      "    pruned_H = []\n",
      "    for conseq in H:\n",
      "        conf = support_data[freqSet] / support_data[freqSet - conseq]\n",
      "        if conf >= min_confidence:\n",
      "            print freqSet - conseq, '--->', conseq, 'conf:', conf\n",
      "            rules.append((freqSet - conseq, conseq, conf))\n",
      "            pruned_H.append(conseq)\n",
      "    return pruned_H"
     ],
     "language": "python",
     "metadata": {},
     "outputs": [],
     "prompt_number": 6
    },
    {
     "cell_type": "code",
     "collapsed": false,
     "input": [
      "def generateRules(L, support_data, min_confidence=0.7):\n",
      "    rules = []\n",
      "    for i in range(1, len(L)):\n",
      "        for freqSet in L[i]:\n",
      "            H1 = [frozenset([item]) for item in freqSet]\n",
      "            print \"freqSet\", freqSet, 'H1', H1\n",
      "            if (i > 1):\n",
      "                rules_from_conseq(freqSet, H1, support_data, rules, min_confidence)\n",
      "            else:\n",
      "                calc_confidence(freqSet, H1, support_data, rules, min_confidence)\n",
      "    return rules"
     ],
     "language": "python",
     "metadata": {},
     "outputs": [],
     "prompt_number": 7
    },
    {
     "cell_type": "heading",
     "level": 4,
     "metadata": {},
     "source": [
      "Generating test dataset and testing out functions:"
     ]
    },
    {
     "cell_type": "markdown",
     "metadata": {},
     "source": [
      "Define a function that loads a fake dataset for testing purposes"
     ]
    },
    {
     "cell_type": "code",
     "collapsed": false,
     "input": [
      "def load_dataset():\n",
      "    return [[1, 3, 4], [2, 3, 5], [1, 2, 3, 5], [2, 5]]"
     ],
     "language": "python",
     "metadata": {},
     "outputs": [],
     "prompt_number": 8
    },
    {
     "cell_type": "markdown",
     "metadata": {},
     "source": [
      "Load a dataset (list of lists) and print it"
     ]
    },
    {
     "cell_type": "code",
     "collapsed": false,
     "input": [
      "dataset = load_dataset()\n",
      "print dataset"
     ],
     "language": "python",
     "metadata": {},
     "outputs": [
      {
       "output_type": "stream",
       "stream": "stdout",
       "text": [
        "[[1, 3, 4], [2, 3, 5], [1, 2, 3, 5], [2, 5]]\n"
       ]
      }
     ],
     "prompt_number": 9
    },
    {
     "cell_type": "markdown",
     "metadata": {},
     "source": [
      "Create the initial candidates and map our original sets to a Python set"
     ]
    },
    {
     "cell_type": "code",
     "collapsed": false,
     "input": [
      "C1 = createCandidates(dataset)\n",
      "D = map(set, dataset)\n",
      "print C1\n",
      "print D"
     ],
     "language": "python",
     "metadata": {},
     "outputs": [
      {
       "output_type": "stream",
       "stream": "stdout",
       "text": [
        "[frozenset([1]), frozenset([2]), frozenset([3]), frozenset([4]), frozenset([5])]\n",
        "[set([1, 3, 4]), set([2, 3, 5]), set([1, 2, 3, 5]), set([2, 5])]\n"
       ]
      }
     ],
     "prompt_number": 10
    },
    {
     "cell_type": "markdown",
     "metadata": {},
     "source": [
      "Prune itemsets that don't meet minsup"
     ]
    },
    {
     "cell_type": "code",
     "collapsed": false,
     "input": [
      "L1, support_data = supportPrune(D, C1, 0.5)\n",
      "print L1\n",
      "print support_data"
     ],
     "language": "python",
     "metadata": {},
     "outputs": [
      {
       "output_type": "stream",
       "stream": "stdout",
       "text": [
        "[frozenset([1]), frozenset([3]), frozenset([2]), frozenset([5])]\n",
        "{frozenset([4]): 0.25, frozenset([5]): 0.75, frozenset([2]): 0.75, frozenset([3]): 0.75, frozenset([1]): 0.5}\n"
       ]
      }
     ],
     "prompt_number": 11
    },
    {
     "cell_type": "markdown",
     "metadata": {},
     "source": [
      "Run apriori"
     ]
    },
    {
     "cell_type": "code",
     "collapsed": false,
     "input": [
      "L, support_data = apriori(dataset, minsupport=0.5)\n",
      "print L\n",
      "print support_data"
     ],
     "language": "python",
     "metadata": {},
     "outputs": [
      {
       "output_type": "stream",
       "stream": "stdout",
       "text": [
        "[[frozenset([1]), frozenset([3]), frozenset([2]), frozenset([5])], [frozenset([1, 3]), frozenset([2, 5]), frozenset([2, 3]), frozenset([3, 5])], [frozenset([2, 3, 5])], []]\n",
        "{frozenset([5]): 0.75, frozenset([3]): 0.75, frozenset([2, 3, 5]): 0.5, frozenset([1, 2]): 0.25, frozenset([1, 5]): 0.25, frozenset([3, 5]): 0.5, frozenset([4]): 0.25, frozenset([2, 3]): 0.5, frozenset([2, 5]): 0.75, frozenset([1]): 0.5, frozenset([1, 3]): 0.5, frozenset([2]): 0.75}\n"
       ]
      }
     ],
     "prompt_number": 12
    },
    {
     "cell_type": "markdown",
     "metadata": {},
     "source": [
      "Generate strong rules"
     ]
    },
    {
     "cell_type": "code",
     "collapsed": false,
     "input": [
      "generateRules(L, support_data)"
     ],
     "language": "python",
     "metadata": {},
     "outputs": [
      {
       "output_type": "stream",
       "stream": "stdout",
       "text": [
        "freqSet frozenset([1, 3]) H1 [frozenset([1]), frozenset([3])]\n",
        "frozenset([1]) ---> frozenset([3]) conf: 1.0\n",
        "freqSet frozenset([2, 5]) H1 [frozenset([2]), frozenset([5])]\n",
        "frozenset([5]) ---> frozenset([2]) conf: 1.0\n",
        "frozenset([2]) ---> frozenset([5]) conf: 1.0\n",
        "freqSet frozenset([2, 3]) H1 [frozenset([2]), frozenset([3])]\n",
        "freqSet frozenset([3, 5]) H1 [frozenset([3]), frozenset([5])]\n",
        "freqSet frozenset([2, 3, 5]) H1 [frozenset([2]), frozenset([3]), frozenset([5])]\n"
       ]
      },
      {
       "metadata": {},
       "output_type": "pyout",
       "prompt_number": 13,
       "text": [
        "[(frozenset({1}), frozenset({3}), 1.0),\n",
        " (frozenset({5}), frozenset({2}), 1.0),\n",
        " (frozenset({2}), frozenset({5}), 1.0)]"
       ]
      }
     ],
     "prompt_number": 13
    }
   ],
   "metadata": {}
  }
 ]
}
