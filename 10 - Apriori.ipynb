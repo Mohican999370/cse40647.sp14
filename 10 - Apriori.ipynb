{
 "metadata": {
  "name": ""
 },
 "nbformat": 3,
 "nbformat_minor": 0,
 "worksheets": [
  {
   "cells": [
    {
     "cell_type": "markdown",
     "metadata": {},
     "source": [
      "Modified from \"https://gist.github.com/marcelcaraciolo/1423287\"."
     ]
    },
    {
     "cell_type": "code",
     "collapsed": false,
     "input": [
      "def load_dataset():\n",
      "    \"Load the sample dataset.\"\n",
      "    return [[1, 3, 4], [2, 3, 5], [1, 2, 3, 5], [2, 5]]"
     ],
     "language": "python",
     "metadata": {},
     "outputs": [],
     "prompt_number": 36
    },
    {
     "cell_type": "code",
     "collapsed": false,
     "input": [
      "dataset = load_dataset()\n",
      "print dataset"
     ],
     "language": "python",
     "metadata": {},
     "outputs": [
      {
       "output_type": "stream",
       "stream": "stdout",
       "text": [
        "[[1, 3, 4], [2, 3, 5], [1, 2, 3, 5], [2, 5]]\n"
       ]
      }
     ],
     "prompt_number": 37
    },
    {
     "cell_type": "code",
     "collapsed": false,
     "input": [
      "def createCandidates(dataset):\n",
      "    \"Create a list of candidate itemsets of size one.\"\n",
      "    c1 = []\n",
      "    for transaction in dataset:\n",
      "        for item in transaction:\n",
      "            if not [item] in c1:\n",
      "                c1.append([item])\n",
      "    c1.sort()\n",
      "    # frozenset because it will be the key of a dictionary\n",
      "    return map(frozenset, c1)"
     ],
     "language": "python",
     "metadata": {},
     "outputs": [],
     "prompt_number": 38
    },
    {
     "cell_type": "code",
     "collapsed": false,
     "input": [
      "C1 = createCandidates(dataset)\n",
      "print C1\n",
      "D = map(set, dataset)\n",
      "print D"
     ],
     "language": "python",
     "metadata": {},
     "outputs": [
      {
       "output_type": "stream",
       "stream": "stdout",
       "text": [
        "[frozenset([1]), frozenset([2]), frozenset([3]), frozenset([4]), frozenset([5])]\n",
        "[set([1, 3, 4]), set([2, 3, 5]), set([1, 2, 3, 5]), set([2, 5])]\n"
       ]
      }
     ],
     "prompt_number": 39
    },
    {
     "cell_type": "code",
     "collapsed": false,
     "input": [
      "def supportPrune(dataset, candidates, min_support):\n",
      "    \"Return all candidates that meet a minimum support threhsold.\"\n",
      "    sscnt = {}\n",
      "    for tid in dataset:\n",
      "        for can in candidates:\n",
      "            if can.issubset(tid):\n",
      "                sscnt.setdefault(can, 0)\n",
      "                sscnt[can] += 1\n",
      " \n",
      "    num_items = float(len(dataset))\n",
      "    retlist = []\n",
      "    support_data = {}\n",
      "    for key in sscnt:\n",
      "        support = sscnt[key] / num_items\n",
      "        if support >= min_support:\n",
      "            retlist.insert(0, key)\n",
      "        support_data[key] = support\n",
      "    return retlist, support_data"
     ],
     "language": "python",
     "metadata": {},
     "outputs": []
    },
    {
     "cell_type": "code",
     "collapsed": false,
     "input": [
      "L1, support_data = supportPrune(D, C1, 0.5)\n",
      "print L1\n",
      "print support_data"
     ],
     "language": "python",
     "metadata": {},
     "outputs": [
      {
       "output_type": "stream",
       "stream": "stdout",
       "text": [
        "[frozenset([1]), frozenset([3]), frozenset([2]), frozenset([5])]\n",
        "{frozenset([4]): 0.25, frozenset([5]): 0.75, frozenset([2]): 0.75, frozenset([3]): 0.75, frozenset([1]): 0.5}\n"
       ]
      }
     ],
     "prompt_number": 40
    },
    {
     "cell_type": "code",
     "collapsed": false,
     "input": [
      "def aprioriGen(freq_sets, k):\n",
      "    \"Generate the joint transactions from candidate sets.\"\n",
      "    retList = []\n",
      "    lenLk = len(freq_sets)\n",
      "    for i in range(lenLk):\n",
      "        for j in range(i + 1, lenLk):\n",
      "            L1 = list(freq_sets[i])[:k - 2]\n",
      "            L2 = list(freq_sets[j])[:k - 2]\n",
      "            L1.sort()\n",
      "            L2.sort()\n",
      "            if L1 == L2:\n",
      "                retList.append(freq_sets[i] | freq_sets[j])\n",
      "    return retList"
     ],
     "language": "python",
     "metadata": {},
     "outputs": []
    },
    {
     "cell_type": "code",
     "collapsed": false,
     "input": [
      "aprioriGen(L1, 2)"
     ],
     "language": "python",
     "metadata": {},
     "outputs": []
    },
    {
     "cell_type": "code",
     "collapsed": false,
     "input": [
      "def apriori(dataset, minsupport=0.5):\n",
      "    \"Generate a list of candidate itemsets.\"\n",
      "    C1 = createCandidates(dataset)\n",
      "    D = map(set, dataset)\n",
      "    L1, support_data = supportPrune(D, C1, minsupport)\n",
      "    L = [L1]\n",
      "    k = 2\n",
      "    while (len(L[k - 2]) > 0):\n",
      "        Ck = aprioriGen(L[k - 2], k)\n",
      "        Lk, supK = supportPrune(D, Ck, minsupport)\n",
      "        support_data.update(supK)\n",
      "        L.append(Lk)\n",
      "        k += 1\n",
      " \n",
      "    return L, support_data"
     ],
     "language": "python",
     "metadata": {},
     "outputs": []
    },
    {
     "cell_type": "code",
     "collapsed": false,
     "input": [
      "L, support_data = apriori(dataset, minsupport=0.5)\n",
      "print L\n",
      "print support_data"
     ],
     "language": "python",
     "metadata": {},
     "outputs": [
      {
       "output_type": "stream",
       "stream": "stdout",
       "text": [
        "[[frozenset([1]), frozenset([3]), frozenset([2]), frozenset([5])], [frozenset([1, 3]), frozenset([2, 5]), frozenset([2, 3]), frozenset([3, 5])], [frozenset([2, 3, 5])], []]\n",
        "{frozenset([5]): 0.75, frozenset([3]): 0.75, frozenset([2, 3, 5]): 0.5, frozenset([1, 2]): 0.25, frozenset([1, 5]): 0.25, frozenset([3, 5]): 0.5, frozenset([4]): 0.25, frozenset([2, 3]): 0.5, frozenset([2, 5]): 0.75, frozenset([1]): 0.5, frozenset([1, 3]): 0.5, frozenset([2]): 0.75}\n"
       ]
      }
     ],
     "prompt_number": 41
    },
    {
     "cell_type": "code",
     "collapsed": false,
     "input": [
      "def generateRules(L, support_data, min_confidence=0.7):\n",
      "    \"\"\"Create the association rules\n",
      "    L: list of frequent item sets\n",
      "    support_data: support data for those itemsets\n",
      "    min_confidence: minimum confidence threshold\n",
      "    \"\"\"\n",
      "    rules = []\n",
      "    for i in range(1, len(L)):\n",
      "        for freqSet in L[i]:\n",
      "            H1 = [frozenset([item]) for item in freqSet]\n",
      "            print \"freqSet\", freqSet, 'H1', H1\n",
      "            if (i > 1):\n",
      "                rules_from_conseq(freqSet, H1, support_data, rules, min_confidence)\n",
      "            else:\n",
      "                calc_confidence(freqSet, H1, support_data, rules, min_confidence)\n",
      "    return rules"
     ],
     "language": "python",
     "metadata": {},
     "outputs": []
    },
    {
     "cell_type": "code",
     "collapsed": false,
     "input": [
      "generateRules(L, support_data)"
     ],
     "language": "python",
     "metadata": {},
     "outputs": [
      {
       "output_type": "stream",
       "stream": "stdout",
       "text": [
        "freqSet frozenset([1, 3]) H1 [frozenset([1]), frozenset([3])]\n",
        "frozenset([1]) ---> frozenset([3]) conf: 1.0\n",
        "freqSet frozenset([2, 5]) H1 [frozenset([2]), frozenset([5])]\n",
        "frozenset([5]) ---> frozenset([2]) conf: 1.0\n",
        "frozenset([2]) ---> frozenset([5]) conf: 1.0\n",
        "freqSet frozenset([2, 3]) H1 [frozenset([2]), frozenset([3])]\n",
        "freqSet frozenset([3, 5]) H1 [frozenset([3]), frozenset([5])]\n",
        "freqSet frozenset([2, 3, 5]) H1 [frozenset([2]), frozenset([3]), frozenset([5])]\n"
       ]
      },
      {
       "metadata": {},
       "output_type": "pyout",
       "prompt_number": 42,
       "text": [
        "[(frozenset({1}), frozenset({3}), 1.0),\n",
        " (frozenset({5}), frozenset({2}), 1.0),\n",
        " (frozenset({2}), frozenset({5}), 1.0)]"
       ]
      }
     ],
     "prompt_number": 42
    },
    {
     "cell_type": "code",
     "collapsed": false,
     "input": [
      "def calc_confidence(freqSet, H, support_data, rules, min_confidence=0.7):\n",
      "    \"Evaluate the rule generated\"\n",
      "    pruned_H = []\n",
      "    for conseq in H:\n",
      "        conf = support_data[freqSet] / support_data[freqSet - conseq]\n",
      "        if conf >= min_confidence:\n",
      "            print freqSet - conseq, '--->', conseq, 'conf:', conf\n",
      "            rules.append((freqSet - conseq, conseq, conf))\n",
      "            pruned_H.append(conseq)\n",
      "    return pruned_H"
     ],
     "language": "python",
     "metadata": {},
     "outputs": []
    },
    {
     "cell_type": "code",
     "collapsed": false,
     "input": [
      "def rules_from_conseq(freqSet, H, support_data, rules, min_confidence=0.7):\n",
      "    \"Generate a set of candidate rules\"\n",
      "    m = len(H[0])\n",
      "    if (len(freqSet) > (m + 1)):\n",
      "        Hmp1 = aprioriGen(H, m + 1)\n",
      "        Hmp1 = calc_confidence(freqSet, Hmp1,  support_data, rules, min_confidence)\n",
      "        if len(Hmp1) > 1:\n",
      "            rules_from_conseq(freqSet, Hmp1, support_data, rules, min_confidence)"
     ],
     "language": "python",
     "metadata": {},
     "outputs": []
    },
    {
     "cell_type": "code",
     "collapsed": false,
     "input": [],
     "language": "python",
     "metadata": {},
     "outputs": []
    }
   ],
   "metadata": {}
  }
 ]
}
